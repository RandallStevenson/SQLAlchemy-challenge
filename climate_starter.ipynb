{
 "cells": [
  {
   "cell_type": "code",
   "execution_count": 1,
   "metadata": {},
   "outputs": [],
   "source": [
    "# Set up dependencies\n",
    "\n",
    "%matplotlib inline\n",
    "from matplotlib import style\n",
    "style.use('fivethirtyeight')\n",
    "import matplotlib.pyplot as plt\n",
    "import numpy as np\n",
    "import pandas as pd\n",
    "import datetime as dt"
   ]
  },
  {
   "cell_type": "markdown",
   "metadata": {},
   "source": [
    "# Reflect Tables into SQLAlchemy ORM"
   ]
  },
  {
   "cell_type": "code",
   "execution_count": 2,
   "metadata": {},
   "outputs": [],
   "source": [
    "# Python SQL toolkit and Object Relational Mapper\n",
    "import sqlalchemy\n",
    "from sqlalchemy.ext.automap import automap_base\n",
    "from sqlalchemy.orm import Session\n",
    "from sqlalchemy import create_engine, func, inspect"
   ]
  },
  {
   "cell_type": "markdown",
   "metadata": {},
   "source": [
    "''' Step 1\n",
    "- Use starter notebook and hawaii.sqlite to do analysis - done\n",
    "- Choose start and end date for your trip (8/16-8/23) - done\n",
    "- Use SQLAlchemy create_engine to connec to sqlite database\n",
    "'''"
   ]
  },
  {
   "cell_type": "code",
   "execution_count": 3,
   "metadata": {},
   "outputs": [],
   "source": [
    "engine = create_engine(\"sqlite:///Resources/hawaii.sqlite\")"
   ]
  },
  {
   "cell_type": "markdown",
   "metadata": {},
   "source": [
    "'''\n",
    "Use SQLAlchemy automap_base to reflect your tables into classes \n",
    "and save a reference to those classes called Station and Measurement\n",
    "'''"
   ]
  },
  {
   "cell_type": "code",
   "execution_count": 4,
   "metadata": {},
   "outputs": [],
   "source": [
    "# reflect an existing database into a new model\n",
    "Base=automap_base()\n",
    "Base.prepare(engine,reflect=True)"
   ]
  },
  {
   "cell_type": "code",
   "execution_count": 5,
   "metadata": {},
   "outputs": [
    {
     "data": {
      "text/plain": [
       "['measurement', 'station']"
      ]
     },
     "execution_count": 5,
     "metadata": {},
     "output_type": "execute_result"
    }
   ],
   "source": [
    "# We can view all of the classes that automap found\n",
    "Base.classes.keys()"
   ]
  },
  {
   "cell_type": "code",
   "execution_count": 6,
   "metadata": {},
   "outputs": [],
   "source": [
    "# Save references to each table\n",
    "Station=Base.classes.station\n",
    "Measurement=Base.classes.measurement\n",
    "\n"
   ]
  },
  {
   "cell_type": "markdown",
   "metadata": {},
   "source": [
    "'''\n",
    "Design a query to retrieve the last 12 months of precipitation data.\n",
    "'''\n"
   ]
  },
  {
   "cell_type": "code",
   "execution_count": 7,
   "metadata": {},
   "outputs": [
    {
     "data": {
      "text/plain": [
       "{'_sa_instance_state': <sqlalchemy.orm.state.InstanceState at 0x1f29c0de588>,\n",
       " 'id': 1,\n",
       " 'station': 'USC00519397',\n",
       " 'latitude': 21.2716,\n",
       " 'elevation': 3.0,\n",
       " 'name': 'WAIKIKI 717.2, HI US',\n",
       " 'longitude': -157.8168}"
      ]
     },
     "execution_count": 7,
     "metadata": {},
     "output_type": "execute_result"
    }
   ],
   "source": [
    "# Create our session (link) from Python to the DB\n",
    "session=Session(bind=engine)\n",
    "fr_stn=session.query(Station).first()\n",
    "fr_msr=session.query(Measurement).first()\n",
    "# show schema of stations\n",
    "fr_stn.__dict__\n"
   ]
  },
  {
   "cell_type": "code",
   "execution_count": 8,
   "metadata": {},
   "outputs": [
    {
     "data": {
      "text/plain": [
       "{'_sa_instance_state': <sqlalchemy.orm.state.InstanceState at 0x1f29c15f088>,\n",
       " 'station': 'USC00519397',\n",
       " 'prcp': 0.08,\n",
       " 'tobs': 65.0,\n",
       " 'id': 1,\n",
       " 'date': '2010-01-01'}"
      ]
     },
     "execution_count": 8,
     "metadata": {},
     "output_type": "execute_result"
    }
   ],
   "source": [
    "# show schema of measurement\n",
    "fr_msr.__dict__"
   ]
  },
  {
   "cell_type": "markdown",
   "metadata": {},
   "source": [
    "# Exploratory Climate Analysis"
   ]
  },
  {
   "cell_type": "markdown",
   "metadata": {},
   "source": [
    "# Design a query to retrieve the last 12 months of precipitation data and plot the results\n",
    "\n"
   ]
  },
  {
   "cell_type": "markdown",
   "metadata": {},
   "source": [
    "'''\n",
    "# This is the way I would do it, if I were not in the class .... \n",
    "# Convert date to an integer format\n",
    "ed_int=int(''.join(c for c in end_date if c.isdigit()))\n",
    "# Subtract a year\n",
    "sd_int=en_int-10000\n",
    "# Then convert all the dates, but I'll do it the way we were taught.\n",
    "'''"
   ]
  },
  {
   "cell_type": "code",
   "execution_count": 9,
   "metadata": {
    "scrolled": false
   },
   "outputs": [
    {
     "name": "stdout",
     "output_type": "stream",
     "text": [
      "The last date in the data is 2017-08-23\n"
     ]
    }
   ],
   "source": [
    "# get the last date in the measurement table and convert to a string\n",
    "last_date=session.query(Measurement.date).order_by(Measurement.date.desc()).first()\n",
    "last_date=last_date[0]\n",
    "print(f'The last date in the data is {last_date}')"
   ]
  },
  {
   "cell_type": "code",
   "execution_count": 10,
   "metadata": {},
   "outputs": [
    {
     "name": "stdout",
     "output_type": "stream",
     "text": [
      "One year before the last date in data is 2016-08-23.\n"
     ]
    }
   ],
   "source": [
    "# Calculate the date 1 year ago from the last data point in the database\n",
    "\n",
    "#convert the string last date to a date\n",
    "ld_yr=int(last_date[0:4])\n",
    "ld_mo=int(last_date[5:7])\n",
    "ld_dy=int(last_date[8:10])\n",
    "ld=dt.date(ld_yr,ld_mo,ld_dy)\n",
    "\n",
    "# set up a one-year decrement\n",
    "year_ago=dt.timedelta(days=365)\n",
    "\n",
    "fd=ld-year_ago\n",
    "print(f'One year before the last date in data is {fd}.')\n",
    "\n"
   ]
  },
  {
   "cell_type": "markdown",
   "metadata": {},
   "source": [
    "'''\n",
    "Select only the date and prcp values\n",
    "'''"
   ]
  },
  {
   "cell_type": "code",
   "execution_count": 11,
   "metadata": {},
   "outputs": [],
   "source": [
    "# Perform a query to retrieve the data and precipitation scores\n",
    "\n",
    "sel=[Measurement.date,Measurement.prcp]\n",
    "\n",
    "daily_prcp=session.query(*sel).\\\n",
    "    filter(Measurement.date> fd).\\\n",
    "    order_by(Measurement.date).all()\n"
   ]
  },
  {
   "cell_type": "markdown",
   "metadata": {},
   "source": [
    "'''\n",
    "Load the query results into a Pandas DataFrame and set the index to the date column\n",
    "'''"
   ]
  },
  {
   "cell_type": "code",
   "execution_count": 12,
   "metadata": {},
   "outputs": [
    {
     "data": {
      "text/html": [
       "<div>\n",
       "<style scoped>\n",
       "    .dataframe tbody tr th:only-of-type {\n",
       "        vertical-align: middle;\n",
       "    }\n",
       "\n",
       "    .dataframe tbody tr th {\n",
       "        vertical-align: top;\n",
       "    }\n",
       "\n",
       "    .dataframe thead th {\n",
       "        text-align: right;\n",
       "    }\n",
       "</style>\n",
       "<table border=\"1\" class=\"dataframe\">\n",
       "  <thead>\n",
       "    <tr style=\"text-align: right;\">\n",
       "      <th></th>\n",
       "      <th>Date</th>\n",
       "      <th>Prcp</th>\n",
       "    </tr>\n",
       "    <tr>\n",
       "      <th>Date</th>\n",
       "      <th></th>\n",
       "      <th></th>\n",
       "    </tr>\n",
       "  </thead>\n",
       "  <tbody>\n",
       "    <tr>\n",
       "      <td>2016-08-24</td>\n",
       "      <td>2016-08-24</td>\n",
       "      <td>0.08</td>\n",
       "    </tr>\n",
       "    <tr>\n",
       "      <td>2016-08-24</td>\n",
       "      <td>2016-08-24</td>\n",
       "      <td>2.15</td>\n",
       "    </tr>\n",
       "    <tr>\n",
       "      <td>2016-08-24</td>\n",
       "      <td>2016-08-24</td>\n",
       "      <td>2.28</td>\n",
       "    </tr>\n",
       "    <tr>\n",
       "      <td>2016-08-24</td>\n",
       "      <td>2016-08-24</td>\n",
       "      <td>NaN</td>\n",
       "    </tr>\n",
       "    <tr>\n",
       "      <td>2016-08-24</td>\n",
       "      <td>2016-08-24</td>\n",
       "      <td>1.22</td>\n",
       "    </tr>\n",
       "  </tbody>\n",
       "</table>\n",
       "</div>"
      ],
      "text/plain": [
       "                  Date  Prcp\n",
       "Date                        \n",
       "2016-08-24  2016-08-24  0.08\n",
       "2016-08-24  2016-08-24  2.15\n",
       "2016-08-24  2016-08-24  2.28\n",
       "2016-08-24  2016-08-24   NaN\n",
       "2016-08-24  2016-08-24  1.22"
      ]
     },
     "execution_count": 12,
     "metadata": {},
     "output_type": "execute_result"
    }
   ],
   "source": [
    "prcp_df=pd.DataFrame(daily_prcp, columns=['Date','Prcp'])\n",
    "prcp_df.set_index(prcp_df['Date'],inplace=True)\n",
    "\n",
    "prcp_df.head()\n"
   ]
  },
  {
   "cell_type": "markdown",
   "metadata": {},
   "source": [
    "'''\n",
    "Sort the DataFrame values by date (This was already done in the extract of daily_prcp)\n",
    "A sort_values could be done on date, but it not necessary, as can be seen above.\n",
    "'''"
   ]
  },
  {
   "cell_type": "markdown",
   "metadata": {},
   "source": [
    "'''\n",
    "Plot the results using the DataFrame plot method.\n",
    "'''"
   ]
  },
  {
   "cell_type": "code",
   "execution_count": 13,
   "metadata": {
    "scrolled": true
   },
   "outputs": [
    {
     "data": {
      "image/png": "[encoded data removed]",
      "text/plain": [
       "<Figure size 720x360 with 1 Axes>"
      ]
     },
     "metadata": {
      "needs_background": "light"
     },
     "output_type": "display_data"
    }
   ],
   "source": [
    "# Use Pandas Plotting with Matplotlib to plot the data\n",
    "\n",
    "prcp_df.plot(rot=45,figsize=(10,5))\n",
    "plt.title(\"Precipitation by Date\")\n",
    "plt.xlabel(\"Date\")\n",
    "plt.ylabel(\"Inches of Rain\")\n",
    "plt.tight_layout()\n",
    "plt.show()"
   ]
  },
  {
   "cell_type": "markdown",
   "metadata": {},
   "source": [
    "'''\n",
    "Use Pandas to report the summary statistics of precipitation data (Note: in the section that follows\n",
    "this is done by station, which would be more useful for vacation planning)\n",
    "'''"
   ]
  },
  {
   "cell_type": "code",
   "execution_count": 14,
   "metadata": {},
   "outputs": [
    {
     "data": {
      "text/html": [
       "<div>\n",
       "<style scoped>\n",
       "    .dataframe tbody tr th:only-of-type {\n",
       "        vertical-align: middle;\n",
       "    }\n",
       "\n",
       "    .dataframe tbody tr th {\n",
       "        vertical-align: top;\n",
       "    }\n",
       "\n",
       "    .dataframe thead th {\n",
       "        text-align: right;\n",
       "    }\n",
       "</style>\n",
       "<table border=\"1\" class=\"dataframe\">\n",
       "  <thead>\n",
       "    <tr style=\"text-align: right;\">\n",
       "      <th></th>\n",
       "      <th>Prcp</th>\n",
       "    </tr>\n",
       "  </thead>\n",
       "  <tbody>\n",
       "    <tr>\n",
       "      <td>count</td>\n",
       "      <td>2015.000000</td>\n",
       "    </tr>\n",
       "    <tr>\n",
       "      <td>mean</td>\n",
       "      <td>0.176462</td>\n",
       "    </tr>\n",
       "    <tr>\n",
       "      <td>std</td>\n",
       "      <td>0.460288</td>\n",
       "    </tr>\n",
       "    <tr>\n",
       "      <td>min</td>\n",
       "      <td>0.000000</td>\n",
       "    </tr>\n",
       "    <tr>\n",
       "      <td>25%</td>\n",
       "      <td>0.000000</td>\n",
       "    </tr>\n",
       "    <tr>\n",
       "      <td>50%</td>\n",
       "      <td>0.020000</td>\n",
       "    </tr>\n",
       "    <tr>\n",
       "      <td>75%</td>\n",
       "      <td>0.130000</td>\n",
       "    </tr>\n",
       "    <tr>\n",
       "      <td>max</td>\n",
       "      <td>6.700000</td>\n",
       "    </tr>\n",
       "  </tbody>\n",
       "</table>\n",
       "</div>"
      ],
      "text/plain": [
       "              Prcp\n",
       "count  2015.000000\n",
       "mean      0.176462\n",
       "std       0.460288\n",
       "min       0.000000\n",
       "25%       0.000000\n",
       "50%       0.020000\n",
       "75%       0.130000\n",
       "max       6.700000"
      ]
     },
     "execution_count": 14,
     "metadata": {},
     "output_type": "execute_result"
    }
   ],
   "source": [
    "prcp_df.describe()"
   ]
  },
  {
   "cell_type": "markdown",
   "metadata": {},
   "source": [
    "'''\n",
    "The above graph is not a valid representation of precipitation.  \n",
    "It appears to report the highest precipitation from among the stations reporting.\n",
    "Stations reporting vary by day, some to not report precipitation each day.\n",
    "There is signficant difference in how much precipitation falls at various stations.\n",
    "As an additional exercise (not part of homework), I'll look at average daily percipitation\n",
    "for each station over each month.\n",
    "'''"
   ]
  },
  {
   "cell_type": "code",
   "execution_count": 15,
   "metadata": {},
   "outputs": [],
   "source": [
    "# get the average of each station for each month and append it to a dictionary\n",
    "\n"
   ]
  },
  {
   "cell_type": "code",
   "execution_count": 16,
   "metadata": {},
   "outputs": [],
   "source": [
    "# Create a pandas using months as index, stations as columns and queried average precipitation as entries\n",
    "months=[\"01\",\"02\",\"03\",\"04\",\"05\",\"06\",\"07\",\"08\",\"09\",\"10\",\"11\",\"12\"]\n",
    "mo_df=pd.DataFrame(months,columns=[\"month\"])\n",
    "\n",
    "sel=[Station.station] \n",
    "stations=session.query(*sel).all()\n",
    "st_df=pd.DataFrame(stations,columns=['station'])\n",
    "\n"
   ]
  },
  {
   "cell_type": "code",
   "execution_count": 17,
   "metadata": {},
   "outputs": [],
   "source": [
    "# list of station names with month at end (columns for Pandas)\n",
    "st=[]\n",
    "for s in stations:\n",
    "    st.append(s[0])\n",
    "st.append('month')\n",
    "\n"
   ]
  },
  {
   "cell_type": "code",
   "execution_count": 18,
   "metadata": {},
   "outputs": [
    {
     "data": {
      "text/html": [
       "<div>\n",
       "<style scoped>\n",
       "    .dataframe tbody tr th:only-of-type {\n",
       "        vertical-align: middle;\n",
       "    }\n",
       "\n",
       "    .dataframe tbody tr th {\n",
       "        vertical-align: top;\n",
       "    }\n",
       "\n",
       "    .dataframe thead th {\n",
       "        text-align: right;\n",
       "    }\n",
       "</style>\n",
       "<table border=\"1\" class=\"dataframe\">\n",
       "  <thead>\n",
       "    <tr style=\"text-align: right;\">\n",
       "      <th></th>\n",
       "      <th>USC00519397</th>\n",
       "      <th>USC00513117</th>\n",
       "      <th>USC00514830</th>\n",
       "      <th>USC00517948</th>\n",
       "      <th>USC00518838</th>\n",
       "      <th>USC00519523</th>\n",
       "      <th>USC00519281</th>\n",
       "      <th>USC00511918</th>\n",
       "      <th>USC00516128</th>\n",
       "    </tr>\n",
       "    <tr>\n",
       "      <th>month</th>\n",
       "      <th></th>\n",
       "      <th></th>\n",
       "      <th></th>\n",
       "      <th></th>\n",
       "      <th></th>\n",
       "      <th></th>\n",
       "      <th></th>\n",
       "      <th></th>\n",
       "      <th></th>\n",
       "    </tr>\n",
       "  </thead>\n",
       "  <tbody>\n",
       "    <tr>\n",
       "      <td>01</td>\n",
       "      <td>0.040086</td>\n",
       "      <td>0.116327</td>\n",
       "      <td>0.096312</td>\n",
       "      <td>0.046275</td>\n",
       "      <td>0.290392</td>\n",
       "      <td>0.123864</td>\n",
       "      <td>0.179073</td>\n",
       "      <td>0.070391</td>\n",
       "      <td>0.239828</td>\n",
       "    </tr>\n",
       "    <tr>\n",
       "      <td>02</td>\n",
       "      <td>0.067361</td>\n",
       "      <td>0.159686</td>\n",
       "      <td>0.146692</td>\n",
       "      <td>0.093860</td>\n",
       "      <td>0.069500</td>\n",
       "      <td>0.143732</td>\n",
       "      <td>0.172301</td>\n",
       "      <td>0.043836</td>\n",
       "      <td>0.233941</td>\n",
       "    </tr>\n",
       "    <tr>\n",
       "      <td>03</td>\n",
       "      <td>0.089013</td>\n",
       "      <td>0.210645</td>\n",
       "      <td>0.120375</td>\n",
       "      <td>0.190541</td>\n",
       "      <td>0.406071</td>\n",
       "      <td>0.170749</td>\n",
       "      <td>0.272621</td>\n",
       "      <td>0.079817</td>\n",
       "      <td>0.405882</td>\n",
       "    </tr>\n",
       "    <tr>\n",
       "      <td>04</td>\n",
       "      <td>0.034786</td>\n",
       "      <td>0.099958</td>\n",
       "      <td>0.085450</td>\n",
       "      <td>0.035167</td>\n",
       "      <td>0.373636</td>\n",
       "      <td>0.116818</td>\n",
       "      <td>0.188542</td>\n",
       "      <td>0.032840</td>\n",
       "      <td>0.463379</td>\n",
       "    </tr>\n",
       "    <tr>\n",
       "      <td>05</td>\n",
       "      <td>0.040208</td>\n",
       "      <td>0.126016</td>\n",
       "      <td>0.105482</td>\n",
       "      <td>0.067500</td>\n",
       "      <td>0.195366</td>\n",
       "      <td>0.085738</td>\n",
       "      <td>0.234516</td>\n",
       "      <td>0.041617</td>\n",
       "      <td>0.369543</td>\n",
       "    </tr>\n",
       "    <tr>\n",
       "      <td>06</td>\n",
       "      <td>0.022661</td>\n",
       "      <td>0.118248</td>\n",
       "      <td>0.114192</td>\n",
       "      <td>0.057975</td>\n",
       "      <td>0.094615</td>\n",
       "      <td>0.050044</td>\n",
       "      <td>0.151525</td>\n",
       "      <td>0.015157</td>\n",
       "      <td>0.495748</td>\n",
       "    </tr>\n",
       "    <tr>\n",
       "      <td>07</td>\n",
       "      <td>0.048368</td>\n",
       "      <td>0.139955</td>\n",
       "      <td>0.142880</td>\n",
       "      <td>0.030000</td>\n",
       "      <td>0.209474</td>\n",
       "      <td>0.088423</td>\n",
       "      <td>0.207621</td>\n",
       "      <td>0.021761</td>\n",
       "      <td>0.526791</td>\n",
       "    </tr>\n",
       "    <tr>\n",
       "      <td>08</td>\n",
       "      <td>0.027922</td>\n",
       "      <td>0.123066</td>\n",
       "      <td>0.105347</td>\n",
       "      <td>0.047846</td>\n",
       "      <td>0.071379</td>\n",
       "      <td>0.099643</td>\n",
       "      <td>0.221903</td>\n",
       "      <td>0.023774</td>\n",
       "      <td>0.443960</td>\n",
       "    </tr>\n",
       "    <tr>\n",
       "      <td>09</td>\n",
       "      <td>0.047192</td>\n",
       "      <td>0.127135</td>\n",
       "      <td>0.099437</td>\n",
       "      <td>0.027286</td>\n",
       "      <td>0.018800</td>\n",
       "      <td>0.110000</td>\n",
       "      <td>0.222714</td>\n",
       "      <td>0.025385</td>\n",
       "      <td>0.531667</td>\n",
       "    </tr>\n",
       "    <tr>\n",
       "      <td>10</td>\n",
       "      <td>0.039577</td>\n",
       "      <td>0.140741</td>\n",
       "      <td>0.146034</td>\n",
       "      <td>0.022593</td>\n",
       "      <td>0.121923</td>\n",
       "      <td>0.101759</td>\n",
       "      <td>0.221898</td>\n",
       "      <td>0.053392</td>\n",
       "      <td>0.448352</td>\n",
       "    </tr>\n",
       "    <tr>\n",
       "      <td>11</td>\n",
       "      <td>0.060640</td>\n",
       "      <td>0.136619</td>\n",
       "      <td>0.139085</td>\n",
       "      <td>0.040714</td>\n",
       "      <td>0.184615</td>\n",
       "      <td>0.134794</td>\n",
       "      <td>0.234545</td>\n",
       "      <td>0.028425</td>\n",
       "      <td>0.532193</td>\n",
       "    </tr>\n",
       "    <tr>\n",
       "      <td>12</td>\n",
       "      <td>0.075314</td>\n",
       "      <td>0.203241</td>\n",
       "      <td>0.154966</td>\n",
       "      <td>0.152727</td>\n",
       "      <td>0.638182</td>\n",
       "      <td>0.162010</td>\n",
       "      <td>0.244931</td>\n",
       "      <td>0.138146</td>\n",
       "      <td>0.507005</td>\n",
       "    </tr>\n",
       "  </tbody>\n",
       "</table>\n",
       "</div>"
      ],
      "text/plain": [
       "       USC00519397  USC00513117  USC00514830  USC00517948  USC00518838  \\\n",
       "month                                                                    \n",
       "01        0.040086     0.116327     0.096312     0.046275     0.290392   \n",
       "02        0.067361     0.159686     0.146692     0.093860     0.069500   \n",
       "03        0.089013     0.210645     0.120375     0.190541     0.406071   \n",
       "04        0.034786     0.099958     0.085450     0.035167     0.373636   \n",
       "05        0.040208     0.126016     0.105482     0.067500     0.195366   \n",
       "06        0.022661     0.118248     0.114192     0.057975     0.094615   \n",
       "07        0.048368     0.139955     0.142880     0.030000     0.209474   \n",
       "08        0.027922     0.123066     0.105347     0.047846     0.071379   \n",
       "09        0.047192     0.127135     0.099437     0.027286     0.018800   \n",
       "10        0.039577     0.140741     0.146034     0.022593     0.121923   \n",
       "11        0.060640     0.136619     0.139085     0.040714     0.184615   \n",
       "12        0.075314     0.203241     0.154966     0.152727     0.638182   \n",
       "\n",
       "       USC00519523  USC00519281  USC00511918  USC00516128  \n",
       "month                                                      \n",
       "01        0.123864     0.179073     0.070391     0.239828  \n",
       "02        0.143732     0.172301     0.043836     0.233941  \n",
       "03        0.170749     0.272621     0.079817     0.405882  \n",
       "04        0.116818     0.188542     0.032840     0.463379  \n",
       "05        0.085738     0.234516     0.041617     0.369543  \n",
       "06        0.050044     0.151525     0.015157     0.495748  \n",
       "07        0.088423     0.207621     0.021761     0.526791  \n",
       "08        0.099643     0.221903     0.023774     0.443960  \n",
       "09        0.110000     0.222714     0.025385     0.531667  \n",
       "10        0.101759     0.221898     0.053392     0.448352  \n",
       "11        0.134794     0.234545     0.028425     0.532193  \n",
       "12        0.162010     0.244931     0.138146     0.507005  "
      ]
     },
     "execution_count": 18,
     "metadata": {},
     "output_type": "execute_result"
    }
   ],
   "source": [
    "# empty pandas dataframe\n",
    "ap_df=pd.DataFrame({})\n",
    "\n",
    "# select the average precipitation for each station by month\n",
    "sel=[func.avg(Measurement.prcp)]\n",
    "for m in months:\n",
    "    row=[]\n",
    "    for s in st:\n",
    "        if s!='month':\n",
    "            a_p=session.query(*sel).\\\n",
    "                filter(func.strftime(\"%m\",Measurement.date)==m).\\\n",
    "                filter(Measurement.station==s).all()\n",
    "            a_p=a_p[0][0]\n",
    "            row.append(a_p)\n",
    "        else:\n",
    "            row.append(m)\n",
    "    row=pd.Series(row)\n",
    "    row=pd.DataFrame([row])\n",
    "    ap_df=pd.concat([ap_df,row])\n",
    "\n",
    "# manipulate pandas to index by month and have columns=stations with entries being avg monthly precip.    \n",
    "ap_df.columns=st\n",
    "ap_df.index=ap_df['month']\n",
    "ap_df.drop('month',axis=1)\n"
   ]
  },
  {
   "cell_type": "code",
   "execution_count": 19,
   "metadata": {},
   "outputs": [
    {
     "data": {
      "image/png": "[encoded data removed]",
      "text/plain": [
       "<Figure size 432x288 with 1 Axes>"
      ]
     },
     "metadata": {
      "needs_background": "light"
     },
     "output_type": "display_data"
    }
   ],
   "source": [
    "# plot a line graph by station\n",
    "ap_df.set_index('month',inplace=False)\n",
    "ap_df.plot.line()\n",
    "plt.ylabel('Average Daily Precipitation')\n",
    "plt.xlabel(\"Month\")\n",
    "plt.title('Precipitation by Month and Station')\n",
    "plt.tight_layout()\n",
    "plt.show()\n"
   ]
  },
  {
   "cell_type": "code",
   "execution_count": 20,
   "metadata": {},
   "outputs": [
    {
     "data": {
      "text/html": [
       "<div>\n",
       "<style scoped>\n",
       "    .dataframe tbody tr th:only-of-type {\n",
       "        vertical-align: middle;\n",
       "    }\n",
       "\n",
       "    .dataframe tbody tr th {\n",
       "        vertical-align: top;\n",
       "    }\n",
       "\n",
       "    .dataframe thead th {\n",
       "        text-align: right;\n",
       "    }\n",
       "</style>\n",
       "<table border=\"1\" class=\"dataframe\">\n",
       "  <thead>\n",
       "    <tr style=\"text-align: right;\">\n",
       "      <th></th>\n",
       "      <th>USC00519397</th>\n",
       "      <th>USC00513117</th>\n",
       "      <th>USC00514830</th>\n",
       "      <th>USC00517948</th>\n",
       "      <th>USC00518838</th>\n",
       "      <th>USC00519523</th>\n",
       "      <th>USC00519281</th>\n",
       "      <th>USC00511918</th>\n",
       "      <th>USC00516128</th>\n",
       "    </tr>\n",
       "  </thead>\n",
       "  <tbody>\n",
       "    <tr>\n",
       "      <td>count</td>\n",
       "      <td>12.000000</td>\n",
       "      <td>12.000000</td>\n",
       "      <td>12.000000</td>\n",
       "      <td>12.000000</td>\n",
       "      <td>12.000000</td>\n",
       "      <td>12.000000</td>\n",
       "      <td>12.000000</td>\n",
       "      <td>12.000000</td>\n",
       "      <td>12.000000</td>\n",
       "    </tr>\n",
       "    <tr>\n",
       "      <td>mean</td>\n",
       "      <td>0.049427</td>\n",
       "      <td>0.141803</td>\n",
       "      <td>0.121354</td>\n",
       "      <td>0.067707</td>\n",
       "      <td>0.222830</td>\n",
       "      <td>0.115631</td>\n",
       "      <td>0.212683</td>\n",
       "      <td>0.047878</td>\n",
       "      <td>0.433191</td>\n",
       "    </tr>\n",
       "    <tr>\n",
       "      <td>std</td>\n",
       "      <td>0.019893</td>\n",
       "      <td>0.033892</td>\n",
       "      <td>0.023579</td>\n",
       "      <td>0.052939</td>\n",
       "      <td>0.178502</td>\n",
       "      <td>0.034152</td>\n",
       "      <td>0.034334</td>\n",
       "      <td>0.034648</td>\n",
       "      <td>0.104779</td>\n",
       "    </tr>\n",
       "    <tr>\n",
       "      <td>min</td>\n",
       "      <td>0.022661</td>\n",
       "      <td>0.099958</td>\n",
       "      <td>0.085450</td>\n",
       "      <td>0.022593</td>\n",
       "      <td>0.018800</td>\n",
       "      <td>0.050044</td>\n",
       "      <td>0.151525</td>\n",
       "      <td>0.015157</td>\n",
       "      <td>0.233941</td>\n",
       "    </tr>\n",
       "    <tr>\n",
       "      <td>25%</td>\n",
       "      <td>0.038380</td>\n",
       "      <td>0.121861</td>\n",
       "      <td>0.103870</td>\n",
       "      <td>0.033875</td>\n",
       "      <td>0.088806</td>\n",
       "      <td>0.096838</td>\n",
       "      <td>0.186174</td>\n",
       "      <td>0.024982</td>\n",
       "      <td>0.396798</td>\n",
       "    </tr>\n",
       "    <tr>\n",
       "      <td>50%</td>\n",
       "      <td>0.043700</td>\n",
       "      <td>0.131877</td>\n",
       "      <td>0.117283</td>\n",
       "      <td>0.047060</td>\n",
       "      <td>0.189991</td>\n",
       "      <td>0.113409</td>\n",
       "      <td>0.221900</td>\n",
       "      <td>0.037228</td>\n",
       "      <td>0.455866</td>\n",
       "    </tr>\n",
       "    <tr>\n",
       "      <td>75%</td>\n",
       "      <td>0.062321</td>\n",
       "      <td>0.145477</td>\n",
       "      <td>0.143668</td>\n",
       "      <td>0.074090</td>\n",
       "      <td>0.311203</td>\n",
       "      <td>0.137028</td>\n",
       "      <td>0.234523</td>\n",
       "      <td>0.057642</td>\n",
       "      <td>0.511951</td>\n",
       "    </tr>\n",
       "    <tr>\n",
       "      <td>max</td>\n",
       "      <td>0.089013</td>\n",
       "      <td>0.210645</td>\n",
       "      <td>0.154966</td>\n",
       "      <td>0.190541</td>\n",
       "      <td>0.638182</td>\n",
       "      <td>0.170749</td>\n",
       "      <td>0.272621</td>\n",
       "      <td>0.138146</td>\n",
       "      <td>0.532193</td>\n",
       "    </tr>\n",
       "  </tbody>\n",
       "</table>\n",
       "</div>"
      ],
      "text/plain": [
       "       USC00519397  USC00513117  USC00514830  USC00517948  USC00518838  \\\n",
       "count    12.000000    12.000000    12.000000    12.000000    12.000000   \n",
       "mean      0.049427     0.141803     0.121354     0.067707     0.222830   \n",
       "std       0.019893     0.033892     0.023579     0.052939     0.178502   \n",
       "min       0.022661     0.099958     0.085450     0.022593     0.018800   \n",
       "25%       0.038380     0.121861     0.103870     0.033875     0.088806   \n",
       "50%       0.043700     0.131877     0.117283     0.047060     0.189991   \n",
       "75%       0.062321     0.145477     0.143668     0.074090     0.311203   \n",
       "max       0.089013     0.210645     0.154966     0.190541     0.638182   \n",
       "\n",
       "       USC00519523  USC00519281  USC00511918  USC00516128  \n",
       "count    12.000000    12.000000    12.000000    12.000000  \n",
       "mean      0.115631     0.212683     0.047878     0.433191  \n",
       "std       0.034152     0.034334     0.034648     0.104779  \n",
       "min       0.050044     0.151525     0.015157     0.233941  \n",
       "25%       0.096838     0.186174     0.024982     0.396798  \n",
       "50%       0.113409     0.221900     0.037228     0.455866  \n",
       "75%       0.137028     0.234523     0.057642     0.511951  \n",
       "max       0.170749     0.272621     0.138146     0.532193  "
      ]
     },
     "execution_count": 20,
     "metadata": {},
     "output_type": "execute_result"
    }
   ],
   "source": [
    "# Use Pandas to calcualte the summary statistics for the precipitation data \n",
    "# This is the average daily precipitaiton within the months on the 12 months of data considered.\n",
    "\n",
    "ap_df.describe()"
   ]
  },
  {
   "cell_type": "markdown",
   "metadata": {},
   "source": [
    "'''\n",
    "Back to homework ... Design a query to calculate the number of stations\n",
    "I'll do it two ways\n",
    "'''"
   ]
  },
  {
   "cell_type": "code",
   "execution_count": 21,
   "metadata": {},
   "outputs": [
    {
     "data": {
      "text/plain": [
       "9"
      ]
     },
     "execution_count": 21,
     "metadata": {},
     "output_type": "execute_result"
    }
   ],
   "source": [
    "# Design a query to show how many stations are available in this dataset?\n",
    "sel=[Station.station]\n",
    "stations=session.query(*sel).all()\n",
    "len(stations)"
   ]
  },
  {
   "cell_type": "code",
   "execution_count": 22,
   "metadata": {},
   "outputs": [
    {
     "data": {
      "text/plain": [
       "9"
      ]
     },
     "execution_count": 22,
     "metadata": {},
     "output_type": "execute_result"
    }
   ],
   "source": [
    "session.query(*sel).count()"
   ]
  },
  {
   "cell_type": "markdown",
   "metadata": {},
   "source": [
    "'''\n",
    "Design a query to find the most active stations\n",
    "- List them and obseravtion counts in descending order\n",
    "- Which station has the highest number of observations (rows)?\n",
    "'''"
   ]
  },
  {
   "cell_type": "markdown",
   "metadata": {},
   "source": [
    "# The instructions do not say to limit the activity to the last 12 months, so I am using all the information available, not only the most recent. "
   ]
  },
  {
   "cell_type": "markdown",
   "metadata": {},
   "source": [
    "'''\n",
    "This section is extra to include the name of the station, not just its ID\n",
    "'''"
   ]
  },
  {
   "cell_type": "code",
   "execution_count": 23,
   "metadata": {},
   "outputs": [
    {
     "name": "stdout",
     "output_type": "stream",
     "text": [
      "                                               name\n",
      "station                                            \n",
      "USC00519397                    WAIKIKI 717.2, HI US\n",
      "USC00513117                    KANEOHE 838.1, HI US\n",
      "USC00514830  KUALOA RANCH HEADQUARTERS 886.9, HI US\n",
      "USC00517948                       PEARL CITY, HI US\n",
      "USC00518838              UPPER WAHIAWA 874.3, HI US\n",
      "USC00519523      WAIMANALO EXPERIMENTAL FARM, HI US\n",
      "USC00519281                     WAIHEE 837.5, HI US\n",
      "USC00511918       HONOLULU OBSERVATORY 702.2, HI US\n",
      "USC00516128            MANOA LYON ARBO 785.2, HI US \n",
      "\n",
      "Aloha!\n"
     ]
    }
   ],
   "source": [
    "# Create a pandas of stations and their names\n",
    "sel=[Station.name,Station.station]\n",
    "\n",
    "stn_query=session.query(*sel).all()\n",
    "\n",
    "stn_df1=pd.DataFrame(stn_query,columns=['name','station'])\n",
    "stn_df=stn_df1\n",
    "stn_df.index=stn_df['station']\n",
    "stn_df=stn_df.drop('station',axis=1)\n",
    "print(stn_df,'\\n')\n",
    "print('Aloha!')"
   ]
  },
  {
   "cell_type": "code",
   "execution_count": 24,
   "metadata": {
    "scrolled": true
   },
   "outputs": [
    {
     "name": "stdout",
     "output_type": "stream",
     "text": [
      "            count\n",
      "station          \n",
      "USC00519281  2772\n",
      "USC00519397  2724\n",
      "USC00513117  2709\n",
      "USC00519523  2669\n",
      "USC00516128  2612\n",
      "USC00514830  2202\n",
      "USC00511918  1979\n",
      "USC00517948  1372\n",
      "USC00518838   511 \n",
      "\n",
      "Station with most rows: USC00519281 (WAIHEE 837.5, HI US) with 2772 rows.\n"
     ]
    }
   ],
   "source": [
    "# What are the most active stations? (i.e. what stations have the most rows)?\n",
    "# List the stations and the counts in descending order.\n",
    "\n",
    "# Although there are probalby more direct ways of doing this, it is easier to copy and paste \n",
    "# and modify previous work.\n",
    "\n",
    "sel=[Measurement.id,Measurement.station,Measurement.date,Measurement.tobs,Measurement.prcp]\n",
    "\n",
    "# Get extract of all of the daily reports (id, station, temperature only, but includes NaNs, if provided)\n",
    "daily_res=session.query(*sel).all()\n",
    "\n",
    "# Using tobs since there are no NaN entries for tobs, could also use date\n",
    "sel=[Measurement.tobs]\n",
    "s_res={}\n",
    "i=0\n",
    "for s in st:\n",
    "    if s!='month':\n",
    "        s_cnt=session.query(*sel).\\\n",
    "            filter(Measurement.station==s).count()\n",
    "        s_res.update({i:[s,s_cnt]})\n",
    "        i+=1\n",
    "\n",
    "\n",
    "#s_df.head()\n",
    "s_df=pd.DataFrame.from_dict(s_res)\n",
    "s_df=s_df.rename({0:'station',1:'count'}).transpose()\n",
    "s_df=s_df.sort_values(by='count',ascending=False)\n",
    "s_df.index=s_df['station']\n",
    "max_stn=s_df.iloc[0,0]\n",
    "s_df=s_df.drop('station',axis=1)\n",
    "print(s_df,'\\n')\n",
    "station_name=stn_df1[stn_df1[\"station\"]==max_stn].iloc[0,0]\n",
    "print(f'Station with most rows: {max_stn} ({station_name}) with {s_df.iloc[0,0]} rows.')"
   ]
  },
  {
   "cell_type": "markdown",
   "metadata": {},
   "source": [
    "'''\n",
    "The following was in the starter notebook, but was not in the homework directions, though used later.\n",
    "'''"
   ]
  },
  {
   "cell_type": "code",
   "execution_count": 25,
   "metadata": {
    "scrolled": false
   },
   "outputs": [
    {
     "name": "stdout",
     "output_type": "stream",
     "text": [
      "The most active station is : USC00519281 or WAIHEE 837.5, HI US\n",
      "The lowest recorded temperature there was: 54.0\n",
      "The highest recorded temperature there was: 85.0\n",
      "The average recorded temperature there was: 71.7\n",
      "\n",
      "Mahalo!\n"
     ]
    }
   ],
   "source": [
    "# Using the station id from the previous query, calculate the lowest temperature recorded, \n",
    "# highest temperature recorded, and average temperature of the most active station?\n",
    "\n",
    "sel=[Measurement.station,func.min(Measurement.tobs),func.max(Measurement.tobs),func.avg(Measurement.tobs)]\n",
    "active_stn = session.query(*sel).\\\n",
    "        filter(Measurement.station == max_stn).all()\n",
    "active_stn=active_stn[0]\n",
    "    \n",
    "name=stn_df.loc[active_stn[0]][0]\n",
    "print(f'The most active station is : {active_stn[0]} or {name}')\n",
    "print(f'The lowest recorded temperature there was: {active_stn[1]}')\n",
    "print(f'The highest recorded temperature there was: {active_stn[2]}')\n",
    "print(f'The average recorded temperature there was: {round(active_stn[3],1)}')\n",
    "print('\\nMahalo!')"
   ]
  },
  {
   "cell_type": "markdown",
   "metadata": {},
   "source": [
    "'''\n",
    "Design a query of the last 12 months of temperature obseravation data (TOBS)\n",
    "- Filter by station with the highest number of observations\n",
    "\n",
    "If highest number of obseravations refers to temperature observations in the last 12 months,\n",
    "we get the following (the other interpretation is easier and will follow)\n",
    "'''"
   ]
  },
  {
   "cell_type": "code",
   "execution_count": 26,
   "metadata": {},
   "outputs": [],
   "source": [
    "# Query the last 12 months of temperature observation data for this station and plot the results as a histogram"
   ]
  },
  {
   "cell_type": "code",
   "execution_count": 27,
   "metadata": {},
   "outputs": [
    {
     "name": "stdout",
     "output_type": "stream",
     "text": [
      "                 station count\n",
      "station                       \n",
      "USC00519397  USC00519397   360\n",
      "USC00519281  USC00519281   351\n",
      "USC00516128  USC00516128   348\n",
      "USC00513117  USC00513117   342\n",
      "USC00519523  USC00519523   336\n",
      "USC00514830  USC00514830   304\n",
      "USC00517948  USC00517948   182\n",
      "USC00518838  USC00518838     0\n",
      "USC00511918  USC00511918     0 \n",
      "\n",
      "Station with max number of temperature measurements is USC00519397 (WAIKIKI 717.2, HI US).\n"
     ]
    }
   ],
   "source": [
    "# Choose the station with the highest number of temperature observations.\n",
    "\n",
    "# Remove any reports with missing temperatures\n",
    "\n",
    "sel=[Measurement.tobs]\n",
    "\n",
    "s_res={}\n",
    "i=0\n",
    "for s in st:\n",
    "    if s!='month':\n",
    "        s_cnt=session.query(*sel).\\\n",
    "            filter(Measurement.station==s).\\\n",
    "            filter(Measurement.date>fd).\\\n",
    "            filter(Measurement.tobs is not None).count()\n",
    "        s_res.update({i:[s,s_cnt]})\n",
    "        i+=1\n",
    "        \n",
    "# Choose the station with the highest number of temperature observations.\n",
    "\n",
    "s_df=pd.DataFrame.from_dict(s_res)\n",
    "s_df=s_df.rename({0:'station',1:'count'}).transpose()\n",
    "s_df=s_df.sort_values(by='count',ascending=False)\n",
    "s_df.index=s_df['station']\n",
    "\n",
    "max_stn=s_df.iloc[0,0]\n",
    "print(s_df,'\\n')\n",
    "station_name=stn_df1[stn_df1[\"station\"]==max_stn].iloc[0,0]\n",
    "print(f'Station with max number of temperature measurements is {max_stn} ({station_name}).')"
   ]
  },
  {
   "cell_type": "code",
   "execution_count": 28,
   "metadata": {
    "scrolled": true
   },
   "outputs": [
    {
     "name": "stdout",
     "output_type": "stream",
     "text": [
      "The station with the most reported temperatures is : USC00519397 (WAIKIKI 717.2, HI US)\n",
      "The lowest recorded temperature in the last 12 months reported was: 60.0\n",
      "The highest recorded temperature in the last 12 months reported was: 87.0\n",
      "The average recorded temperature in the last 12 months reported was: 75.2\n",
      "\n",
      "A hui hou ...\n"
     ]
    }
   ],
   "source": [
    "# Using the station id from the previous query, calculate the lowest temperature recorded, \n",
    "# highest temperature recorded, and average temperature of the most active station?\n",
    "\n",
    "sel=[Measurement.station,func.min(Measurement.tobs),func.max(Measurement.tobs),func.avg(Measurement.tobs)]\n",
    "active_temp = session.query(*sel).\\\n",
    "        filter(Measurement.station == max_stn).\\\n",
    "        filter(Measurement.date>fd).all()\n",
    "active_temp=active_temp[0]\n",
    "    \n",
    "name=stn_df.loc[active_temp[0]][0]\n",
    "print(f'The station with the most reported temperatures is : {active_temp[0]} ({name})')\n",
    "print(f'The lowest recorded temperature in the last 12 months reported was: {active_temp[1]}')\n",
    "print(f'The highest recorded temperature in the last 12 months reported was: {active_temp[2]}')\n",
    "print(f'The average recorded temperature in the last 12 months reported was: {round(active_temp[3],1)}')\n",
    "\n",
    "print('\\nA hui hou ...')"
   ]
  },
  {
   "cell_type": "code",
   "execution_count": 29,
   "metadata": {},
   "outputs": [],
   "source": [
    "# Histogram of 12 months of daily temperature data on station with highest number of observations\n",
    "\n",
    "# Query tobs for station with most observations and for the last 12 months \n",
    "# (note: I used \"most observations\" in total, not over the last 12 months.)\n",
    "\n",
    "sel=[Measurement.tobs]\n",
    "daily_temps=session.query(*sel).\\\n",
    "    filter(Measurement.station==max_stn).\\\n",
    "    filter(Measurement.date>fd).all()\n"
   ]
  },
  {
   "cell_type": "code",
   "execution_count": 30,
   "metadata": {},
   "outputs": [
    {
     "data": {
      "image/png": "[encoded data removed]",
      "text/plain": [
       "<Figure size 432x288 with 1 Axes>"
      ]
     },
     "metadata": {
      "needs_background": "light"
     },
     "output_type": "display_data"
    }
   ],
   "source": [
    "# convert to floating list\n",
    "temps_flt=[]\n",
    "for temp in daily_temps:\n",
    "    temps_flt.append(float(temp[0]))\n",
    "\n",
    "num_bins=12\n",
    "\n",
    "plt.hist(temps_flt,num_bins,color='r')\n",
    "plt.xlabel('Temperature *F')\n",
    "plt.ylabel('Days Observed in Last Year')\n",
    "plt.title(f'Temperature Distributions at {name}\\n')\n",
    "plt.show()"
   ]
  },
  {
   "cell_type": "markdown",
   "metadata": {},
   "source": [
    "'''\n",
    "If by highest number of observations, the homework is referring to the highest number of \n",
    "total observations over the past 12 months, the results are below.\n",
    "'''"
   ]
  },
  {
   "cell_type": "code",
   "execution_count": 31,
   "metadata": {},
   "outputs": [
    {
     "name": "stdout",
     "output_type": "stream",
     "text": [
      "The station with the most reported temperatures is : USC00519281 (WAIHEE 837.5, HI US)\n",
      "The lowest recorded temperature in the last 12 months reported was: 59.0\n",
      "The highest recorded temperature in the last 12 months reported was: 83.0\n",
      "The average recorded temperature in the last 12 months reported was: 73.1\n",
      "\n",
      "A hui hou ...\n"
     ]
    }
   ],
   "source": [
    "sel=[Measurement.station,func.min(Measurement.tobs),func.max(Measurement.tobs),func.avg(Measurement.tobs)]\n",
    "active_temp = session.query(*sel).\\\n",
    "        filter(Measurement.station == active_stn[0]).\\\n",
    "        filter(Measurement.date>fd).all()\n",
    "active_temp=active_temp[0]\n",
    "    \n",
    "name=stn_df.loc[active_stn[0]][0]\n",
    "print(f'The station with the most reported temperatures is : {active_stn[0]} ({name})')\n",
    "print(f'The lowest recorded temperature in the last 12 months reported was: {active_temp[1]}')\n",
    "print(f'The highest recorded temperature in the last 12 months reported was: {active_temp[2]}')\n",
    "print(f'The average recorded temperature in the last 12 months reported was: {round(active_temp[3],1)}')\n",
    "\n",
    "print('\\nA hui hou ...')"
   ]
  },
  {
   "cell_type": "code",
   "execution_count": 32,
   "metadata": {},
   "outputs": [
    {
     "data": {
      "image/png": "[encoded data removed]",
      "text/plain": [
       "<Figure size 432x288 with 1 Axes>"
      ]
     },
     "metadata": {
      "needs_background": "light"
     },
     "output_type": "display_data"
    }
   ],
   "source": [
    "sel=[Measurement.tobs]\n",
    "daily_temps=session.query(*sel).\\\n",
    "    filter(Measurement.station==active_stn[0]).\\\n",
    "    filter(Measurement.date>fd).all()\n",
    "\n",
    "temps_flt=[]\n",
    "for temp in daily_temps:\n",
    "    temps_flt.append(float(temp[0]))\n",
    "\n",
    "num_bins=12\n",
    "\n",
    "plt.hist(temps_flt,num_bins,color='r')\n",
    "plt.xlabel('Temperature *F')\n",
    "plt.ylabel('Days Observed in Last Year')\n",
    "plt.title(f'Temperature Distributions at {name}\\n')\n",
    "plt.show()"
   ]
  },
  {
   "cell_type": "markdown",
   "metadata": {},
   "source": [
    "## Bonus Challenge Assignment"
   ]
  },
  {
   "cell_type": "code",
   "execution_count": 33,
   "metadata": {},
   "outputs": [],
   "source": [
    "# This function called `calc_temps` will accept start date and end date in the format '%Y-%m-%d' \n",
    "# and return the minimum, average, and maximum temperatures for that range of dates\n",
    "def calc_temps(start_date, end_date):\n",
    "    \"\"\"TMIN, TAVG, and TMAX for a list of dates.\n",
    "    \n",
    "    Args:\n",
    "        start_date (string): A date string in the format %Y-%m-%d\n",
    "        end_date (string): A date string in the format %Y-%m-%d\n",
    "        \n",
    "    Returns:\n",
    "        TMIN, TAVE, and TMAX\n",
    "    \"\"\"\n",
    "    \n",
    "    return session.query(func.min(Measurement.tobs), func.avg(Measurement.tobs), func.max(Measurement.tobs)).\\\n",
    "        filter(Measurement.date >= start_date).filter(Measurement.date <= end_date).all()\n",
    "\n",
    "# function usage example\n",
    "#print(calc_temps('2012-02-28', '2017-03-05'))"
   ]
  },
  {
   "cell_type": "code",
   "execution_count": 34,
   "metadata": {},
   "outputs": [
    {
     "name": "stdout",
     "output_type": "stream",
     "text": [
      "[(71.0, 78.73333333333333, 85.0)]\n"
     ]
    }
   ],
   "source": [
    "# Use your previous function `calc_temps` to calculate the tmin, tavg, and tmax \n",
    "# for your trip using the previous year's data for those same dates.\n",
    "print(calc_temps('2017-08-16', '2017-08-23'))"
   ]
  },
  {
   "cell_type": "code",
   "execution_count": 35,
   "metadata": {},
   "outputs": [],
   "source": [
    "# By previous query I am assuming it was calc_temps"
   ]
  },
  {
   "cell_type": "code",
   "execution_count": 36,
   "metadata": {},
   "outputs": [
    {
     "data": {
      "text/plain": [
       "([<matplotlib.axis.YTick at 0x1f29c1bf408>,\n",
       "  <matplotlib.axis.YTick at 0x1f29c1c2588>,\n",
       "  <matplotlib.axis.YTick at 0x1f29c1c7c88>],\n",
       " <a list of 3 Text yticklabel objects>)"
      ]
     },
     "execution_count": 36,
     "metadata": {},
     "output_type": "execute_result"
    },
    {
     "data": {
      "image/png": "[encoded data removed]",
      "text/plain": [
       "<Figure size 432x288 with 1 Axes>"
      ]
     },
     "metadata": {
      "needs_background": "light"
     },
     "output_type": "display_data"
    }
   ],
   "source": [
    "# Plot the results from your previous query as a bar chart. \n",
    "# Use \"Trip Avg Temp\" as your Title\n",
    "# Use the average temperature for the y value\n",
    "# Use the peak-to-peak (tmax-tmin) value as the y error bar (yerr)\n",
    "temps_trip=calc_temps('2014-08-16','2014-08-23')[0]    \n",
    "xs=['Low','Avg','High']\n",
    "\n",
    "plt.bar(xs,temps_trip)\n",
    "plt.title('Trip Avg Temp\\n')\n",
    "plt.ylabel('Temperature')\n",
    "plt.xlabel(\"Range of Temperatures\")\n",
    "plt.xticks(['Low','Avg','High'])\n",
    "plt.yticks(temps_trip)"
   ]
  },
  {
   "cell_type": "code",
   "execution_count": null,
   "metadata": {},
   "outputs": [],
   "source": [
    "# Calculate the total amount of rainfall per weather station for your trip dates using the previous year's matching dates.\n",
    "# Sort this in descending order by precipitation amount and list the station, name, latitude, longitude, and elevation"
   ]
  },
  {
   "cell_type": "code",
   "execution_count": null,
   "metadata": {},
   "outputs": [],
   "source": [
    "# Create a query that will calculate the daily normals \n",
    "# (i.e. the averages for tmin, tmax, and tavg for all historic data matching a specific month and day)\n",
    "\n",
    "def daily_normals(date):\n",
    "    \"\"\"Daily Normals.\n",
    "    \n",
    "    Args:\n",
    "        date (str): A date string in the format '%m-%d'\n",
    "        \n",
    "    Returns:\n",
    "        A list of tuples containing the daily normals, tmin, tavg, and tmax\n",
    "    \n",
    "    \"\"\"\n",
    "    \n",
    "    sel = [func.min(Measurement.tobs), func.avg(Measurement.tobs), func.max(Measurement.tobs)]\n",
    "    return session.query(*sel).filter(func.strftime(\"%m-%d\", Measurement.date) == date).all()\n",
    "    \n"
   ]
  },
  {
   "cell_type": "markdown",
   "metadata": {},
   "source": []
  },
  {
   "cell_type": "code",
   "execution_count": null,
   "metadata": {},
   "outputs": [],
   "source": [
    "# calculate the daily normals for your trip\n",
    "# push each tuple of calculations into a list called `normals`\n",
    "\n",
    "# Set the start and end date of the trip\n",
    "\n",
    "# Use the start and end date to create a range of dates\n",
    "\n",
    "# Stip off the year and save a list of %m-%d strings\n",
    "\n",
    "# Loop through the list of %m-%d strings and calculate the normals for each date\n"
   ]
  },
  {
   "cell_type": "code",
   "execution_count": null,
   "metadata": {},
   "outputs": [],
   "source": [
    "# Load the previous query results into a Pandas DataFrame and add the `trip_dates` range as the `date` index\n"
   ]
  },
  {
   "cell_type": "code",
   "execution_count": null,
   "metadata": {},
   "outputs": [],
   "source": [
    "# Plot the daily normals as an area plot with `stacked=False`\n"
   ]
  },
  {
   "cell_type": "code",
   "execution_count": null,
   "metadata": {},
   "outputs": [],
   "source": []
  }
 ],
 "metadata": {
  "kernel_info": {
   "name": "python3"
  },
  "kernelspec": {
   "display_name": "Python 3",
   "language": "python",
   "name": "python3"
  },
  "language_info": {
   "codemirror_mode": {
    "name": "ipython",
    "version": 3
   },
   "file_extension": ".py",
   "mimetype": "text/x-python",
   "name": "python",
   "nbconvert_exporter": "python",
   "pygments_lexer": "ipython3",
   "version": "3.7.4"
  },
  "nteract": {
   "version": "0.12.3"
  },
  "varInspector": {
   "cols": {
    "lenName": 16,
    "lenType": 16,
    "lenVar": 40
   },
   "kernels_config": {
    "python": {
     "delete_cmd_postfix": "",
     "delete_cmd_prefix": "del ",
     "library": "var_list.py",
     "varRefreshCmd": "print(var_dic_list())"
    },
    "r": {
     "delete_cmd_postfix": ") ",
     "delete_cmd_prefix": "rm(",
     "library": "var_list.r",
     "varRefreshCmd": "cat(var_dic_list()) "
    }
   },
   "types_to_exclude": [
    "module",
    "function",
    "builtin_function_or_method",
    "instance",
    "_Feature"
   ],
   "window_display": false
  }
 },
 "nbformat": 4,
 "nbformat_minor": 2
}
