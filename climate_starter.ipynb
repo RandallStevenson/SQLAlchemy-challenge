{
 "cells": [
  {
   "cell_type": "code",
   "execution_count": 1,
   "metadata": {},
   "outputs": [],
   "source": [
    "# Set up dependencies\n",
    "\n",
    "%matplotlib inline\n",
    "from matplotlib import style\n",
    "style.use('fivethirtyeight')\n",
    "import matplotlib.pyplot as plt\n",
    "import numpy as np\n",
    "import pandas as pd\n",
    "import datetime as dt"
   ]
  },
  {
   "cell_type": "markdown",
   "metadata": {},
   "source": [
    "# Reflect Tables into SQLAlchemy ORM"
   ]
  },
  {
   "cell_type": "code",
   "execution_count": 2,
   "metadata": {},
   "outputs": [],
   "source": [
    "# Python SQL toolkit and Object Relational Mapper\n",
    "import sqlalchemy\n",
    "from sqlalchemy.ext.automap import automap_base\n",
    "from sqlalchemy.orm import Session\n",
    "from sqlalchemy import create_engine, func, inspect"
   ]
  },
  {
   "cell_type": "code",
   "execution_count": 3,
   "metadata": {},
   "outputs": [],
   "source": [
    "engine = create_engine(\"sqlite:///Resources/hawaii.sqlite\")"
   ]
  },
  {
   "cell_type": "code",
   "execution_count": 4,
   "metadata": {},
   "outputs": [],
   "source": [
    "# reflect an existing database into a new model\n",
    "Base=automap_base()\n",
    "Base.prepare(engine,reflect=True)"
   ]
  },
  {
   "cell_type": "code",
   "execution_count": 5,
   "metadata": {},
   "outputs": [
    {
     "data": {
      "text/plain": [
       "['measurement', 'station']"
      ]
     },
     "execution_count": 5,
     "metadata": {},
     "output_type": "execute_result"
    }
   ],
   "source": [
    "# We can view all of the classes that automap found\n",
    "Base.classes.keys()"
   ]
  },
  {
   "cell_type": "code",
   "execution_count": 6,
   "metadata": {},
   "outputs": [],
   "source": [
    "# Save references to each table\n",
    "stn_dict=Base.classes.station\n",
    "msr_dict=Base.classes.measurement\n",
    "\n"
   ]
  },
  {
   "cell_type": "code",
   "execution_count": 7,
   "metadata": {},
   "outputs": [
    {
     "data": {
      "text/plain": [
       "{'_sa_instance_state': <sqlalchemy.orm.state.InstanceState at 0x1deff008908>,\n",
       " 'station': 'USC00519397',\n",
       " 'latitude': 21.2716,\n",
       " 'elevation': 3.0,\n",
       " 'name': 'WAIKIKI 717.2, HI US',\n",
       " 'id': 1,\n",
       " 'longitude': -157.8168}"
      ]
     },
     "execution_count": 7,
     "metadata": {},
     "output_type": "execute_result"
    }
   ],
   "source": [
    "# Create our session (link) from Python to the DB\n",
    "session=Session(bind=engine)\n",
    "\n",
    "fr_stn=session.query(stn_dict).first()\n",
    "fr_msr=session.query(msr_dict).first()\n",
    "# show schema of stations\n",
    "fr_stn.__dict__\n"
   ]
  },
  {
   "cell_type": "code",
   "execution_count": 8,
   "metadata": {},
   "outputs": [
    {
     "data": {
      "text/plain": [
       "{'_sa_instance_state': <sqlalchemy.orm.state.InstanceState at 0x1deff086d48>,\n",
       " 'tobs': 65.0,\n",
       " 'id': 1,\n",
       " 'date': '2010-01-01',\n",
       " 'station': 'USC00519397',\n",
       " 'prcp': 0.08}"
      ]
     },
     "execution_count": 8,
     "metadata": {},
     "output_type": "execute_result"
    }
   ],
   "source": [
    "# show schema of measurement\n",
    "fr_msr.__dict__"
   ]
  },
  {
   "cell_type": "markdown",
   "metadata": {},
   "source": [
    "# Exploratory Climate Analysis"
   ]
  },
  {
   "cell_type": "code",
   "execution_count": 9,
   "metadata": {},
   "outputs": [],
   "source": [
    "# Design a query to retrieve the last 12 months of precipitation data and plot the results\n",
    "\n"
   ]
  },
  {
   "cell_type": "markdown",
   "metadata": {},
   "source": [
    "'''\n",
    "# This is the way I would do it, if I were not in the class .... \n",
    "# Convert date to an integer format\n",
    "ed_int=int(''.join(c for c in end_date if c.isdigit()))\n",
    "# Subtract a year\n",
    "sd_int=en_int-10000\n",
    "# Then convert all the dates, but I'll do it the way we were taught.\n",
    "'''"
   ]
  },
  {
   "cell_type": "code",
   "execution_count": 10,
   "metadata": {
    "scrolled": true
   },
   "outputs": [
    {
     "name": "stdout",
     "output_type": "stream",
     "text": [
      "The last date in the data is 2017-08-23\n"
     ]
    }
   ],
   "source": [
    "# get the last date in the measurement table and convert to a string\n",
    "last_date=session.query(msr_dict.date).order_by(msr_dict.date.desc()).first()\n",
    "last_date=last_date[0]\n",
    "print(f'The last date in the data is {last_date}')"
   ]
  },
  {
   "cell_type": "code",
   "execution_count": 11,
   "metadata": {},
   "outputs": [
    {
     "name": "stdout",
     "output_type": "stream",
     "text": [
      "One year before the last date in data is 2016-08-23.\n"
     ]
    }
   ],
   "source": [
    "# Calculate the date 1 year ago from the last data point in the database\n",
    "\n",
    "#convert the string last date to a date\n",
    "ld_yr=int(last_date[0:4])\n",
    "ld_mo=int(last_date[5:7])\n",
    "ld_dy=int(last_date[8:10])\n",
    "ld=dt.date(ld_yr,ld_mo,ld_dy)\n",
    "\n",
    "# set up a one-year decrement\n",
    "year_ago=dt.timedelta(days=365)\n",
    "\n",
    "fd=ld-year_ago\n",
    "print(f'One year before the last date in data is {fd}.')\n",
    "\n"
   ]
  },
  {
   "cell_type": "code",
   "execution_count": 12,
   "metadata": {},
   "outputs": [],
   "source": [
    "# Perform a query to retrieve the data and precipitation scores\n",
    "\n",
    "sel=[msr_dict.id,msr_dict.station,msr_dict.date,\n",
    "     func.avg(msr_dict.tobs),\n",
    "     func.max(msr_dict.tobs),\n",
    "     func.min(msr_dict.tobs),\n",
    "     func.avg(msr_dict.prcp),\n",
    "     func.max(msr_dict.prcp),\n",
    "     func.min(msr_dict.prcp)\n",
    "    ]\n",
    "\n",
    "daily_avg=session.query(*sel).\\\n",
    "    filter(msr_dict.date> fd).\\\n",
    "    group_by(msr_dict.date).\\\n",
    "    order_by(msr_dict.date).all()\n"
   ]
  },
  {
   "cell_type": "markdown",
   "metadata": {},
   "source": [
    "# The results below are by date ..."
   ]
  },
  {
   "cell_type": "code",
   "execution_count": 13,
   "metadata": {
    "scrolled": true
   },
   "outputs": [
    {
     "data": {
      "text/html": [
       "<div>\n",
       "<style scoped>\n",
       "    .dataframe tbody tr th:only-of-type {\n",
       "        vertical-align: middle;\n",
       "    }\n",
       "\n",
       "    .dataframe tbody tr th {\n",
       "        vertical-align: top;\n",
       "    }\n",
       "\n",
       "    .dataframe thead th {\n",
       "        text-align: right;\n",
       "    }\n",
       "</style>\n",
       "<table border=\"1\" class=\"dataframe\">\n",
       "  <thead>\n",
       "    <tr style=\"text-align: right;\">\n",
       "      <th></th>\n",
       "      <th>id</th>\n",
       "      <th>station</th>\n",
       "      <th>date</th>\n",
       "      <th>avg_tobs</th>\n",
       "      <th>max_tobs</th>\n",
       "      <th>min_tobs</th>\n",
       "      <th>avg_prcp</th>\n",
       "      <th>max_prcp</th>\n",
       "      <th>min_prcp</th>\n",
       "    </tr>\n",
       "  </thead>\n",
       "  <tbody>\n",
       "    <tr>\n",
       "      <td>0</td>\n",
       "      <td>2365</td>\n",
       "      <td>USC00519397</td>\n",
       "      <td>2016-08-24</td>\n",
       "      <td>77.571429</td>\n",
       "      <td>80.0</td>\n",
       "      <td>74.0</td>\n",
       "      <td>1.555000</td>\n",
       "      <td>2.28</td>\n",
       "      <td>0.08</td>\n",
       "    </tr>\n",
       "    <tr>\n",
       "      <td>1</td>\n",
       "      <td>7333</td>\n",
       "      <td>USC00514830</td>\n",
       "      <td>2016-08-25</td>\n",
       "      <td>79.428571</td>\n",
       "      <td>81.0</td>\n",
       "      <td>77.0</td>\n",
       "      <td>0.077143</td>\n",
       "      <td>0.21</td>\n",
       "      <td>0.00</td>\n",
       "    </tr>\n",
       "    <tr>\n",
       "      <td>2</td>\n",
       "      <td>2367</td>\n",
       "      <td>USC00519397</td>\n",
       "      <td>2016-08-26</td>\n",
       "      <td>80.500000</td>\n",
       "      <td>84.0</td>\n",
       "      <td>78.0</td>\n",
       "      <td>0.016667</td>\n",
       "      <td>0.04</td>\n",
       "      <td>0.00</td>\n",
       "    </tr>\n",
       "    <tr>\n",
       "      <td>3</td>\n",
       "      <td>2368</td>\n",
       "      <td>USC00519397</td>\n",
       "      <td>2016-08-27</td>\n",
       "      <td>76.833333</td>\n",
       "      <td>81.0</td>\n",
       "      <td>73.0</td>\n",
       "      <td>0.064000</td>\n",
       "      <td>0.18</td>\n",
       "      <td>0.00</td>\n",
       "    </tr>\n",
       "    <tr>\n",
       "      <td>4</td>\n",
       "      <td>2369</td>\n",
       "      <td>USC00519397</td>\n",
       "      <td>2016-08-28</td>\n",
       "      <td>76.000000</td>\n",
       "      <td>81.0</td>\n",
       "      <td>71.0</td>\n",
       "      <td>0.516667</td>\n",
       "      <td>2.07</td>\n",
       "      <td>0.01</td>\n",
       "    </tr>\n",
       "  </tbody>\n",
       "</table>\n",
       "</div>"
      ],
      "text/plain": [
       "     id      station        date   avg_tobs  max_tobs  min_tobs  avg_prcp  \\\n",
       "0  2365  USC00519397  2016-08-24  77.571429      80.0      74.0  1.555000   \n",
       "1  7333  USC00514830  2016-08-25  79.428571      81.0      77.0  0.077143   \n",
       "2  2367  USC00519397  2016-08-26  80.500000      84.0      78.0  0.016667   \n",
       "3  2368  USC00519397  2016-08-27  76.833333      81.0      73.0  0.064000   \n",
       "4  2369  USC00519397  2016-08-28  76.000000      81.0      71.0  0.516667   \n",
       "\n",
       "   max_prcp  min_prcp  \n",
       "0      2.28      0.08  \n",
       "1      0.21      0.00  \n",
       "2      0.04      0.00  \n",
       "3      0.18      0.00  \n",
       "4      2.07      0.01  "
      ]
     },
     "execution_count": 13,
     "metadata": {},
     "output_type": "execute_result"
    }
   ],
   "source": [
    "# Save the query results as a Pandas DataFrame and set the index to the date column\n",
    "prcp_df=pd.DataFrame(daily_avg,columns=['id','station','date','avg_tobs','max_tobs','min_tobs','avg_prcp','max_prcp','min_prcp'])\n",
    "prcp_df.head()"
   ]
  },
  {
   "cell_type": "code",
   "execution_count": 14,
   "metadata": {
    "scrolled": true
   },
   "outputs": [
    {
     "data": {
      "text/html": [
       "<div>\n",
       "<style scoped>\n",
       "    .dataframe tbody tr th:only-of-type {\n",
       "        vertical-align: middle;\n",
       "    }\n",
       "\n",
       "    .dataframe tbody tr th {\n",
       "        vertical-align: top;\n",
       "    }\n",
       "\n",
       "    .dataframe thead th {\n",
       "        text-align: right;\n",
       "    }\n",
       "</style>\n",
       "<table border=\"1\" class=\"dataframe\">\n",
       "  <thead>\n",
       "    <tr style=\"text-align: right;\">\n",
       "      <th></th>\n",
       "      <th>date</th>\n",
       "      <th>avg_prcp</th>\n",
       "    </tr>\n",
       "  </thead>\n",
       "  <tbody>\n",
       "    <tr>\n",
       "      <td>0</td>\n",
       "      <td>2016-08-24</td>\n",
       "      <td>1.555000</td>\n",
       "    </tr>\n",
       "    <tr>\n",
       "      <td>1</td>\n",
       "      <td>2016-08-25</td>\n",
       "      <td>0.077143</td>\n",
       "    </tr>\n",
       "    <tr>\n",
       "      <td>2</td>\n",
       "      <td>2016-08-26</td>\n",
       "      <td>0.016667</td>\n",
       "    </tr>\n",
       "    <tr>\n",
       "      <td>3</td>\n",
       "      <td>2016-08-27</td>\n",
       "      <td>0.064000</td>\n",
       "    </tr>\n",
       "    <tr>\n",
       "      <td>4</td>\n",
       "      <td>2016-08-28</td>\n",
       "      <td>0.516667</td>\n",
       "    </tr>\n",
       "  </tbody>\n",
       "</table>\n",
       "</div>"
      ],
      "text/plain": [
       "         date  avg_prcp\n",
       "0  2016-08-24  1.555000\n",
       "1  2016-08-25  0.077143\n",
       "2  2016-08-26  0.016667\n",
       "3  2016-08-27  0.064000\n",
       "4  2016-08-28  0.516667"
      ]
     },
     "execution_count": 14,
     "metadata": {},
     "output_type": "execute_result"
    }
   ],
   "source": [
    "prcp_df2=prcp_df.drop(['id','station','avg_tobs','max_tobs','min_tobs','max_prcp','min_prcp'],axis=1)\n",
    "prcp_df2.head()"
   ]
  },
  {
   "cell_type": "code",
   "execution_count": 15,
   "metadata": {
    "scrolled": true
   },
   "outputs": [
    {
     "data": {
      "image/png": "[encoded data removed]",
      "text/plain": [
       "<Figure size 432x288 with 1 Axes>"
      ]
     },
     "metadata": {
      "needs_background": "light"
     },
     "output_type": "display_data"
    }
   ],
   "source": [
    "# Use Pandas Plotting with Matplotlib to plot the data\n",
    "\n",
    "prcp_df2.set_index('date',inplace=True)\n",
    "prcp_df2.plot.bar()\n",
    "plt.tight_layout()\n",
    "plt.show()"
   ]
  },
  {
   "cell_type": "markdown",
   "metadata": {},
   "source": [
    "# Above is what I understood the instructions to say to do. It does not specify what the precipitation is being averaged over. Above is the daily average for all the stations reporting.  It is not what I would normally do. I do not like the output and do not find it helpful, so I am instead going to produce a line graph of average monthly temperatures by station. I think that may have been what was meant by average precipitation."
   ]
  },
  {
   "cell_type": "code",
   "execution_count": 16,
   "metadata": {},
   "outputs": [],
   "source": [
    "# get the average of each station for each month and append it to a dictionary\n",
    "\n"
   ]
  },
  {
   "cell_type": "code",
   "execution_count": 17,
   "metadata": {},
   "outputs": [],
   "source": [
    "# Create a pandas using months as index, stations as columns and queried average precipitation as entries\n",
    "months=[\"01\",\"02\",\"03\",\"04\",\"05\",\"06\",\"07\",\"08\",\"09\",\"10\",\"11\",\"12\"]\n",
    "mo_df=pd.DataFrame(months,columns=[\"month\"])\n",
    "\n",
    "sel=[stn_dict.station] \n",
    "stations=session.query(*sel).all()\n",
    "st_df=pd.DataFrame(stations,columns=['station'])\n",
    "\n"
   ]
  },
  {
   "cell_type": "code",
   "execution_count": 18,
   "metadata": {},
   "outputs": [],
   "source": [
    "# list of station names with month at end (columns for Pandas)\n",
    "st=[]\n",
    "for s in stations:\n",
    "    st.append(s[0])\n",
    "st.append('month')\n",
    "\n"
   ]
  },
  {
   "cell_type": "code",
   "execution_count": 19,
   "metadata": {},
   "outputs": [
    {
     "data": {
      "text/html": [
       "<div>\n",
       "<style scoped>\n",
       "    .dataframe tbody tr th:only-of-type {\n",
       "        vertical-align: middle;\n",
       "    }\n",
       "\n",
       "    .dataframe tbody tr th {\n",
       "        vertical-align: top;\n",
       "    }\n",
       "\n",
       "    .dataframe thead th {\n",
       "        text-align: right;\n",
       "    }\n",
       "</style>\n",
       "<table border=\"1\" class=\"dataframe\">\n",
       "  <thead>\n",
       "    <tr style=\"text-align: right;\">\n",
       "      <th></th>\n",
       "      <th>USC00519397</th>\n",
       "      <th>USC00513117</th>\n",
       "      <th>USC00514830</th>\n",
       "      <th>USC00517948</th>\n",
       "      <th>USC00518838</th>\n",
       "      <th>USC00519523</th>\n",
       "      <th>USC00519281</th>\n",
       "      <th>USC00511918</th>\n",
       "      <th>USC00516128</th>\n",
       "    </tr>\n",
       "    <tr>\n",
       "      <th>month</th>\n",
       "      <th></th>\n",
       "      <th></th>\n",
       "      <th></th>\n",
       "      <th></th>\n",
       "      <th></th>\n",
       "      <th></th>\n",
       "      <th></th>\n",
       "      <th></th>\n",
       "      <th></th>\n",
       "    </tr>\n",
       "  </thead>\n",
       "  <tbody>\n",
       "    <tr>\n",
       "      <td>01</td>\n",
       "      <td>0.040086</td>\n",
       "      <td>0.116327</td>\n",
       "      <td>0.096312</td>\n",
       "      <td>0.046275</td>\n",
       "      <td>0.290392</td>\n",
       "      <td>0.123864</td>\n",
       "      <td>0.179073</td>\n",
       "      <td>0.070391</td>\n",
       "      <td>0.239828</td>\n",
       "    </tr>\n",
       "    <tr>\n",
       "      <td>02</td>\n",
       "      <td>0.067361</td>\n",
       "      <td>0.159686</td>\n",
       "      <td>0.146692</td>\n",
       "      <td>0.093860</td>\n",
       "      <td>0.069500</td>\n",
       "      <td>0.143732</td>\n",
       "      <td>0.172301</td>\n",
       "      <td>0.043836</td>\n",
       "      <td>0.233941</td>\n",
       "    </tr>\n",
       "    <tr>\n",
       "      <td>03</td>\n",
       "      <td>0.089013</td>\n",
       "      <td>0.210645</td>\n",
       "      <td>0.120375</td>\n",
       "      <td>0.190541</td>\n",
       "      <td>0.406071</td>\n",
       "      <td>0.170749</td>\n",
       "      <td>0.272621</td>\n",
       "      <td>0.079817</td>\n",
       "      <td>0.405882</td>\n",
       "    </tr>\n",
       "    <tr>\n",
       "      <td>04</td>\n",
       "      <td>0.034786</td>\n",
       "      <td>0.099958</td>\n",
       "      <td>0.085450</td>\n",
       "      <td>0.035167</td>\n",
       "      <td>0.373636</td>\n",
       "      <td>0.116818</td>\n",
       "      <td>0.188542</td>\n",
       "      <td>0.032840</td>\n",
       "      <td>0.463379</td>\n",
       "    </tr>\n",
       "    <tr>\n",
       "      <td>05</td>\n",
       "      <td>0.040208</td>\n",
       "      <td>0.126016</td>\n",
       "      <td>0.105482</td>\n",
       "      <td>0.067500</td>\n",
       "      <td>0.195366</td>\n",
       "      <td>0.085738</td>\n",
       "      <td>0.234516</td>\n",
       "      <td>0.041617</td>\n",
       "      <td>0.369543</td>\n",
       "    </tr>\n",
       "    <tr>\n",
       "      <td>06</td>\n",
       "      <td>0.022661</td>\n",
       "      <td>0.118248</td>\n",
       "      <td>0.114192</td>\n",
       "      <td>0.057975</td>\n",
       "      <td>0.094615</td>\n",
       "      <td>0.050044</td>\n",
       "      <td>0.151525</td>\n",
       "      <td>0.015157</td>\n",
       "      <td>0.495748</td>\n",
       "    </tr>\n",
       "    <tr>\n",
       "      <td>07</td>\n",
       "      <td>0.048368</td>\n",
       "      <td>0.139955</td>\n",
       "      <td>0.142880</td>\n",
       "      <td>0.030000</td>\n",
       "      <td>0.209474</td>\n",
       "      <td>0.088423</td>\n",
       "      <td>0.207621</td>\n",
       "      <td>0.021761</td>\n",
       "      <td>0.526791</td>\n",
       "    </tr>\n",
       "    <tr>\n",
       "      <td>08</td>\n",
       "      <td>0.027922</td>\n",
       "      <td>0.123066</td>\n",
       "      <td>0.105347</td>\n",
       "      <td>0.047846</td>\n",
       "      <td>0.071379</td>\n",
       "      <td>0.099643</td>\n",
       "      <td>0.221903</td>\n",
       "      <td>0.023774</td>\n",
       "      <td>0.443960</td>\n",
       "    </tr>\n",
       "    <tr>\n",
       "      <td>09</td>\n",
       "      <td>0.047192</td>\n",
       "      <td>0.127135</td>\n",
       "      <td>0.099437</td>\n",
       "      <td>0.027286</td>\n",
       "      <td>0.018800</td>\n",
       "      <td>0.110000</td>\n",
       "      <td>0.222714</td>\n",
       "      <td>0.025385</td>\n",
       "      <td>0.531667</td>\n",
       "    </tr>\n",
       "    <tr>\n",
       "      <td>10</td>\n",
       "      <td>0.039577</td>\n",
       "      <td>0.140741</td>\n",
       "      <td>0.146034</td>\n",
       "      <td>0.022593</td>\n",
       "      <td>0.121923</td>\n",
       "      <td>0.101759</td>\n",
       "      <td>0.221898</td>\n",
       "      <td>0.053392</td>\n",
       "      <td>0.448352</td>\n",
       "    </tr>\n",
       "    <tr>\n",
       "      <td>11</td>\n",
       "      <td>0.060640</td>\n",
       "      <td>0.136619</td>\n",
       "      <td>0.139085</td>\n",
       "      <td>0.040714</td>\n",
       "      <td>0.184615</td>\n",
       "      <td>0.134794</td>\n",
       "      <td>0.234545</td>\n",
       "      <td>0.028425</td>\n",
       "      <td>0.532193</td>\n",
       "    </tr>\n",
       "    <tr>\n",
       "      <td>12</td>\n",
       "      <td>0.075314</td>\n",
       "      <td>0.203241</td>\n",
       "      <td>0.154966</td>\n",
       "      <td>0.152727</td>\n",
       "      <td>0.638182</td>\n",
       "      <td>0.162010</td>\n",
       "      <td>0.244931</td>\n",
       "      <td>0.138146</td>\n",
       "      <td>0.507005</td>\n",
       "    </tr>\n",
       "  </tbody>\n",
       "</table>\n",
       "</div>"
      ],
      "text/plain": [
       "       USC00519397  USC00513117  USC00514830  USC00517948  USC00518838  \\\n",
       "month                                                                    \n",
       "01        0.040086     0.116327     0.096312     0.046275     0.290392   \n",
       "02        0.067361     0.159686     0.146692     0.093860     0.069500   \n",
       "03        0.089013     0.210645     0.120375     0.190541     0.406071   \n",
       "04        0.034786     0.099958     0.085450     0.035167     0.373636   \n",
       "05        0.040208     0.126016     0.105482     0.067500     0.195366   \n",
       "06        0.022661     0.118248     0.114192     0.057975     0.094615   \n",
       "07        0.048368     0.139955     0.142880     0.030000     0.209474   \n",
       "08        0.027922     0.123066     0.105347     0.047846     0.071379   \n",
       "09        0.047192     0.127135     0.099437     0.027286     0.018800   \n",
       "10        0.039577     0.140741     0.146034     0.022593     0.121923   \n",
       "11        0.060640     0.136619     0.139085     0.040714     0.184615   \n",
       "12        0.075314     0.203241     0.154966     0.152727     0.638182   \n",
       "\n",
       "       USC00519523  USC00519281  USC00511918  USC00516128  \n",
       "month                                                      \n",
       "01        0.123864     0.179073     0.070391     0.239828  \n",
       "02        0.143732     0.172301     0.043836     0.233941  \n",
       "03        0.170749     0.272621     0.079817     0.405882  \n",
       "04        0.116818     0.188542     0.032840     0.463379  \n",
       "05        0.085738     0.234516     0.041617     0.369543  \n",
       "06        0.050044     0.151525     0.015157     0.495748  \n",
       "07        0.088423     0.207621     0.021761     0.526791  \n",
       "08        0.099643     0.221903     0.023774     0.443960  \n",
       "09        0.110000     0.222714     0.025385     0.531667  \n",
       "10        0.101759     0.221898     0.053392     0.448352  \n",
       "11        0.134794     0.234545     0.028425     0.532193  \n",
       "12        0.162010     0.244931     0.138146     0.507005  "
      ]
     },
     "execution_count": 19,
     "metadata": {},
     "output_type": "execute_result"
    }
   ],
   "source": [
    "# empty pandas dataframe\n",
    "ap_df=pd.DataFrame({})\n",
    "\n",
    "# select the average precipitation for each station by month\n",
    "sel=[func.avg(msr_dict.prcp)]\n",
    "for m in months:\n",
    "    row=[]\n",
    "    for s in st:\n",
    "        if s!='month':\n",
    "            a_p=session.query(*sel).\\\n",
    "                filter(func.strftime(\"%m\",msr_dict.date)==m).\\\n",
    "                filter(msr_dict.station==s).all()\n",
    "            a_p=a_p[0][0]\n",
    "            row.append(a_p)\n",
    "        else:\n",
    "            row.append(m)\n",
    "    row=pd.Series(row)\n",
    "    row=pd.DataFrame([row])\n",
    "    ap_df=pd.concat([ap_df,row])\n",
    "\n",
    "# manipulate pandas to index by month and have columns=stations with entries being avg monthly precip.    \n",
    "ap_df.columns=st\n",
    "ap_df.index=ap_df['month']\n",
    "ap_df.drop('month',axis=1)\n"
   ]
  },
  {
   "cell_type": "code",
   "execution_count": 20,
   "metadata": {},
   "outputs": [
    {
     "data": {
      "image/png": "[encoded data removed]",
      "text/plain": [
       "<Figure size 432x288 with 1 Axes>"
      ]
     },
     "metadata": {
      "needs_background": "light"
     },
     "output_type": "display_data"
    }
   ],
   "source": [
    "# plot a line graph by station\n",
    "ap_df.set_index('month',inplace=False)\n",
    "ap_df.plot.line()\n",
    "plt.ylabel('Average Daily Precipitation')\n",
    "plt.xlabel(\"Month\")\n",
    "plt.title('Precipitation by Month and Station')\n",
    "plt.tight_layout()\n",
    "plt.show()\n"
   ]
  },
  {
   "cell_type": "code",
   "execution_count": 21,
   "metadata": {},
   "outputs": [
    {
     "data": {
      "text/html": [
       "<div>\n",
       "<style scoped>\n",
       "    .dataframe tbody tr th:only-of-type {\n",
       "        vertical-align: middle;\n",
       "    }\n",
       "\n",
       "    .dataframe tbody tr th {\n",
       "        vertical-align: top;\n",
       "    }\n",
       "\n",
       "    .dataframe thead th {\n",
       "        text-align: right;\n",
       "    }\n",
       "</style>\n",
       "<table border=\"1\" class=\"dataframe\">\n",
       "  <thead>\n",
       "    <tr style=\"text-align: right;\">\n",
       "      <th></th>\n",
       "      <th>USC00519397</th>\n",
       "      <th>USC00513117</th>\n",
       "      <th>USC00514830</th>\n",
       "      <th>USC00517948</th>\n",
       "      <th>USC00518838</th>\n",
       "      <th>USC00519523</th>\n",
       "      <th>USC00519281</th>\n",
       "      <th>USC00511918</th>\n",
       "      <th>USC00516128</th>\n",
       "    </tr>\n",
       "  </thead>\n",
       "  <tbody>\n",
       "    <tr>\n",
       "      <td>count</td>\n",
       "      <td>12.000000</td>\n",
       "      <td>12.000000</td>\n",
       "      <td>12.000000</td>\n",
       "      <td>12.000000</td>\n",
       "      <td>12.000000</td>\n",
       "      <td>12.000000</td>\n",
       "      <td>12.000000</td>\n",
       "      <td>12.000000</td>\n",
       "      <td>12.000000</td>\n",
       "    </tr>\n",
       "    <tr>\n",
       "      <td>mean</td>\n",
       "      <td>0.049427</td>\n",
       "      <td>0.141803</td>\n",
       "      <td>0.121354</td>\n",
       "      <td>0.067707</td>\n",
       "      <td>0.222830</td>\n",
       "      <td>0.115631</td>\n",
       "      <td>0.212683</td>\n",
       "      <td>0.047878</td>\n",
       "      <td>0.433191</td>\n",
       "    </tr>\n",
       "    <tr>\n",
       "      <td>std</td>\n",
       "      <td>0.019893</td>\n",
       "      <td>0.033892</td>\n",
       "      <td>0.023579</td>\n",
       "      <td>0.052939</td>\n",
       "      <td>0.178502</td>\n",
       "      <td>0.034152</td>\n",
       "      <td>0.034334</td>\n",
       "      <td>0.034648</td>\n",
       "      <td>0.104779</td>\n",
       "    </tr>\n",
       "    <tr>\n",
       "      <td>min</td>\n",
       "      <td>0.022661</td>\n",
       "      <td>0.099958</td>\n",
       "      <td>0.085450</td>\n",
       "      <td>0.022593</td>\n",
       "      <td>0.018800</td>\n",
       "      <td>0.050044</td>\n",
       "      <td>0.151525</td>\n",
       "      <td>0.015157</td>\n",
       "      <td>0.233941</td>\n",
       "    </tr>\n",
       "    <tr>\n",
       "      <td>25%</td>\n",
       "      <td>0.038380</td>\n",
       "      <td>0.121861</td>\n",
       "      <td>0.103870</td>\n",
       "      <td>0.033875</td>\n",
       "      <td>0.088806</td>\n",
       "      <td>0.096838</td>\n",
       "      <td>0.186174</td>\n",
       "      <td>0.024982</td>\n",
       "      <td>0.396798</td>\n",
       "    </tr>\n",
       "    <tr>\n",
       "      <td>50%</td>\n",
       "      <td>0.043700</td>\n",
       "      <td>0.131877</td>\n",
       "      <td>0.117283</td>\n",
       "      <td>0.047060</td>\n",
       "      <td>0.189991</td>\n",
       "      <td>0.113409</td>\n",
       "      <td>0.221900</td>\n",
       "      <td>0.037228</td>\n",
       "      <td>0.455866</td>\n",
       "    </tr>\n",
       "    <tr>\n",
       "      <td>75%</td>\n",
       "      <td>0.062321</td>\n",
       "      <td>0.145477</td>\n",
       "      <td>0.143668</td>\n",
       "      <td>0.074090</td>\n",
       "      <td>0.311203</td>\n",
       "      <td>0.137028</td>\n",
       "      <td>0.234523</td>\n",
       "      <td>0.057642</td>\n",
       "      <td>0.511951</td>\n",
       "    </tr>\n",
       "    <tr>\n",
       "      <td>max</td>\n",
       "      <td>0.089013</td>\n",
       "      <td>0.210645</td>\n",
       "      <td>0.154966</td>\n",
       "      <td>0.190541</td>\n",
       "      <td>0.638182</td>\n",
       "      <td>0.170749</td>\n",
       "      <td>0.272621</td>\n",
       "      <td>0.138146</td>\n",
       "      <td>0.532193</td>\n",
       "    </tr>\n",
       "  </tbody>\n",
       "</table>\n",
       "</div>"
      ],
      "text/plain": [
       "       USC00519397  USC00513117  USC00514830  USC00517948  USC00518838  \\\n",
       "count    12.000000    12.000000    12.000000    12.000000    12.000000   \n",
       "mean      0.049427     0.141803     0.121354     0.067707     0.222830   \n",
       "std       0.019893     0.033892     0.023579     0.052939     0.178502   \n",
       "min       0.022661     0.099958     0.085450     0.022593     0.018800   \n",
       "25%       0.038380     0.121861     0.103870     0.033875     0.088806   \n",
       "50%       0.043700     0.131877     0.117283     0.047060     0.189991   \n",
       "75%       0.062321     0.145477     0.143668     0.074090     0.311203   \n",
       "max       0.089013     0.210645     0.154966     0.190541     0.638182   \n",
       "\n",
       "       USC00519523  USC00519281  USC00511918  USC00516128  \n",
       "count    12.000000    12.000000    12.000000    12.000000  \n",
       "mean      0.115631     0.212683     0.047878     0.433191  \n",
       "std       0.034152     0.034334     0.034648     0.104779  \n",
       "min       0.050044     0.151525     0.015157     0.233941  \n",
       "25%       0.096838     0.186174     0.024982     0.396798  \n",
       "50%       0.113409     0.221900     0.037228     0.455866  \n",
       "75%       0.137028     0.234523     0.057642     0.511951  \n",
       "max       0.170749     0.272621     0.138146     0.532193  "
      ]
     },
     "execution_count": 21,
     "metadata": {},
     "output_type": "execute_result"
    }
   ],
   "source": [
    "# Use Pandas to calcualte the summary statistics for the precipitation data\n",
    "\n",
    "ap_df.describe()"
   ]
  },
  {
   "cell_type": "markdown",
   "metadata": {},
   "source": [
    "#  I'll do it both ways "
   ]
  },
  {
   "cell_type": "code",
   "execution_count": 22,
   "metadata": {},
   "outputs": [
    {
     "data": {
      "text/plain": [
       "9"
      ]
     },
     "execution_count": 22,
     "metadata": {},
     "output_type": "execute_result"
    }
   ],
   "source": [
    "# Design a query to show how many stations are available in this dataset?\n",
    "sel=[stn_dict.station]\n",
    "stations=session.query(*sel).all()\n",
    "len(stations)"
   ]
  },
  {
   "cell_type": "code",
   "execution_count": 23,
   "metadata": {},
   "outputs": [
    {
     "data": {
      "text/plain": [
       "9"
      ]
     },
     "execution_count": 23,
     "metadata": {},
     "output_type": "execute_result"
    }
   ],
   "source": [
    "session.query(*sel).count()"
   ]
  },
  {
   "cell_type": "markdown",
   "metadata": {},
   "source": [
    "# The instructions do not say to limit the activity to the last 12 months, so I am using all the information available, not only the most recent. "
   ]
  },
  {
   "cell_type": "code",
   "execution_count": 24,
   "metadata": {
    "scrolled": true
   },
   "outputs": [
    {
     "name": "stdout",
     "output_type": "stream",
     "text": [
      "            count\n",
      "station          \n",
      "USC00519281  2772\n",
      "USC00519397  2724\n",
      "USC00513117  2709\n",
      "USC00519523  2669\n",
      "USC00516128  2612\n",
      "USC00514830  2202\n",
      "USC00511918  1979\n",
      "USC00517948  1372\n",
      "USC00518838   511 \n",
      "\n",
      "Station with most rows:  USC00519281  with  2772  rows.\n"
     ]
    }
   ],
   "source": [
    "# What are the most active stations? (i.e. what stations have the most rows)?\n",
    "# List the stations and the counts in descending order.\n",
    "\n",
    "# Although there are probalby more direct ways of doing this, it is easier to copy and paste \n",
    "# and modify previous work.\n",
    "\n",
    "sel=[msr_dict.id,msr_dict.station,msr_dict.date,msr_dict.tobs,msr_dict.prcp]\n",
    "\n",
    "# Get extract of all of the daily reports (id, station, temperature only, but includes NaNs, if provided)\n",
    "daily_res=session.query(*sel).all()\n",
    "\n",
    "\n",
    "sel=[msr_dict.tobs]\n",
    "s_res={}\n",
    "i=0\n",
    "for s in st:\n",
    "    if s!='month':\n",
    "        s_cnt=session.query(*sel).\\\n",
    "            filter(msr_dict.station==s).count()\n",
    "        s_res.update({i:[s,s_cnt]})\n",
    "        i+=1\n",
    "\n",
    "\n",
    "#s_df.head()\n",
    "s_df=pd.DataFrame.from_dict(s_res)\n",
    "s_df=s_df.rename({0:'station',1:'count'}).transpose()\n",
    "s_df=s_df.sort_values(by='count',ascending=False)\n",
    "s_df.index=s_df['station']\n",
    "max_stn=s_df.iloc[0,0]\n",
    "s_df=s_df.drop('station',axis=1)\n",
    "print(s_df,'\\n')\n",
    "print('Station with most rows: ',max_stn,' with ',s_df.iloc[0,0],' rows.')"
   ]
  },
  {
   "cell_type": "markdown",
   "metadata": {},
   "source": [
    "# This is extra for cosmetics ... to print name of station"
   ]
  },
  {
   "cell_type": "code",
   "execution_count": 25,
   "metadata": {},
   "outputs": [
    {
     "name": "stdout",
     "output_type": "stream",
     "text": [
      "                                               name\n",
      "station                                            \n",
      "USC00519397                    WAIKIKI 717.2, HI US\n",
      "USC00513117                    KANEOHE 838.1, HI US\n",
      "USC00514830  KUALOA RANCH HEADQUARTERS 886.9, HI US\n",
      "USC00517948                       PEARL CITY, HI US\n",
      "USC00518838              UPPER WAHIAWA 874.3, HI US\n",
      "USC00519523      WAIMANALO EXPERIMENTAL FARM, HI US\n",
      "USC00519281                     WAIHEE 837.5, HI US\n",
      "USC00511918       HONOLULU OBSERVATORY 702.2, HI US\n",
      "USC00516128            MANOA LYON ARBO 785.2, HI US \n",
      "\n",
      "Aloha!\n"
     ]
    }
   ],
   "source": [
    "# Create a pandas of stations and their names\n",
    "sel=[stn_dict.name,stn_dict.station]\n",
    "\n",
    "stn_query=session.query(*sel).all()\n",
    "\n",
    "stn_df=pd.DataFrame(stn_query,columns=['name','station'])\n",
    "stn_df.index=stn_df['station']\n",
    "stn_df=stn_df.drop('station',axis=1)\n",
    "print(stn_df,'\\n')\n",
    "print('Aloha!')"
   ]
  },
  {
   "cell_type": "code",
   "execution_count": 27,
   "metadata": {
    "scrolled": false
   },
   "outputs": [
    {
     "name": "stdout",
     "output_type": "stream",
     "text": [
      "The most active station is : USC00519281 or WAIHEE 837.5, HI US\n",
      "The lowest recorded temperature there was: 54.0\n",
      "The highest recorded temperature there was: 85.0\n",
      "The average recorded temperature there was: 71.7\n",
      "\n",
      "Mahalo!\n"
     ]
    }
   ],
   "source": [
    "# Using the station id from the previous query, calculate the lowest temperature recorded, \n",
    "# highest temperature recorded, and average temperature of the most active station?\n",
    "\n",
    "sel=[msr_dict.station,func.min(msr_dict.tobs),func.max(msr_dict.tobs),func.avg(msr_dict.tobs)]\n",
    "active_stn = session.query(*sel).\\\n",
    "        filter(msr_dict.station == max_stn).all()\n",
    "active_stn=active_stn[0]\n",
    "    \n",
    "name=stn_df.loc[active_stn[0]][0]\n",
    "print(f'The most active station is : {active_stn[0]} or {name}')\n",
    "print(f'The lowest recorded temperature there was: {active_stn[1]}')\n",
    "print(f'The highest recorded temperature there was: {active_stn[2]}')\n",
    "print(f'The average recorded temperature there was: {round(active_stn[3],1)}')\n",
    "print('\\nMahalo!')"
   ]
  },
  {
   "cell_type": "code",
   "execution_count": 28,
   "metadata": {},
   "outputs": [],
   "source": [
    "\n",
    "# Query the last 12 months of temperature observation data for this station and plot the results as a histogram\n",
    "\n",
    "\n",
    "\n"
   ]
  },
  {
   "cell_type": "code",
   "execution_count": 29,
   "metadata": {},
   "outputs": [
    {
     "name": "stdout",
     "output_type": "stream",
     "text": [
      "                 station count\n",
      "station                       \n",
      "USC00519281  USC00519281  2772\n",
      "USC00519397  USC00519397  2724\n",
      "USC00513117  USC00513117  2709\n",
      "USC00519523  USC00519523  2669\n",
      "USC00516128  USC00516128  2612\n",
      "USC00514830  USC00514830  2202\n",
      "USC00511918  USC00511918  1979\n",
      "USC00517948  USC00517948  1372\n",
      "USC00518838  USC00518838   511 \n",
      "\n",
      "Station with max number of temperature measurements is  USC00519281 .\n"
     ]
    }
   ],
   "source": [
    "# Choose the station with the highest number of temperature observations.\n",
    "\n",
    "# Remove any reports with missing temperatures\n",
    "\n",
    "sel=[msr_dict.tobs]\n",
    "\n",
    "s_res={}\n",
    "i=0\n",
    "for s in st:\n",
    "    if s!='month':\n",
    "        s_cnt=session.query(*sel).\\\n",
    "            filter(msr_dict.station==s).\\\n",
    "            filter(msr_dict.tobs is not None).count()\n",
    "        s_res.update({i:[s,s_cnt]})\n",
    "        i+=1\n",
    "        \n",
    "# Choose the station with the highest number of temperature observations.\n",
    "\n",
    "s_df=pd.DataFrame.from_dict(s_res)\n",
    "s_df=s_df.rename({0:'station',1:'count'}).transpose()\n",
    "s_df=s_df.sort_values(by='count',ascending=False)\n",
    "s_df.index=s_df['station']\n",
    "\n",
    "max_stn=s_df.iloc[0,0]\n",
    "print(s_df,'\\n')\n",
    "print('Station with max number of temperature measurements is ',max_stn,'.')"
   ]
  },
  {
   "cell_type": "code",
   "execution_count": 30,
   "metadata": {},
   "outputs": [
    {
     "name": "stdout",
     "output_type": "stream",
     "text": [
      "The station with the most reported temperatures is : USC00519281 or WAIHEE 837.5, HI US\n",
      "The lowest recorded temperature in the last 12 months reported was: 59.0\n",
      "The highest recorded temperature in the last 12 months reported was: 83.0\n",
      "The average recorded temperature in the last 12 months reported was: 73.1\n",
      "\n",
      "A hui hou ...\n"
     ]
    }
   ],
   "source": [
    "# Using the station id from the previous query, calculate the lowest temperature recorded, \n",
    "# highest temperature recorded, and average temperature of the most active station?\n",
    "\n",
    "sel=[msr_dict.station,func.min(msr_dict.tobs),func.max(msr_dict.tobs),func.avg(msr_dict.tobs)]\n",
    "active_temp = session.query(*sel).\\\n",
    "        filter(msr_dict.station == max_stn).\\\n",
    "        filter(msr_dict.date>fd).all()\n",
    "active_temp=active_temp[0]\n",
    "    \n",
    "name=stn_df.loc[active_temp[0]][0]\n",
    "print(f'The station with the most reported temperatures is : {active_temp[0]} or {name}')\n",
    "print(f'The lowest recorded temperature in the last 12 months reported was: {active_temp[1]}')\n",
    "print(f'The highest recorded temperature in the last 12 months reported was: {active_temp[2]}')\n",
    "print(f'The average recorded temperature in the last 12 months reported was: {round(active_temp[3],1)}')\n",
    "print('\\nA hui hou ...')"
   ]
  },
  {
   "cell_type": "markdown",
   "metadata": {},
   "source": [
    "## Bonus Challenge Assignment"
   ]
  },
  {
   "cell_type": "code",
   "execution_count": null,
   "metadata": {},
   "outputs": [],
   "source": [
    "# This function called `calc_temps` will accept start date and end date in the format '%Y-%m-%d' \n",
    "# and return the minimum, average, and maximum temperatures for that range of dates\n",
    "def calc_temps(start_date, end_date):\n",
    "    \"\"\"TMIN, TAVG, and TMAX for a list of dates.\n",
    "    \n",
    "    Args:\n",
    "        start_date (string): A date string in the format %Y-%m-%d\n",
    "        end_date (string): A date string in the format %Y-%m-%d\n",
    "        \n",
    "    Returns:\n",
    "        TMIN, TAVE, and TMAX\n",
    "    \"\"\"\n",
    "    \n",
    "    return session.query(func.min(Measurement.tobs), func.avg(Measurement.tobs), func.max(Measurement.tobs)).\\\n",
    "        filter(Measurement.date >= start_date).filter(Measurement.date <= end_date).all()\n",
    "\n",
    "# function usage example\n",
    "print(calc_temps('2012-02-28', '2012-03-05'))"
   ]
  },
  {
   "cell_type": "code",
   "execution_count": null,
   "metadata": {},
   "outputs": [],
   "source": [
    "# Use your previous function `calc_temps` to calculate the tmin, tavg, and tmax \n",
    "# for your trip using the previous year's data for those same dates.\n"
   ]
  },
  {
   "cell_type": "code",
   "execution_count": null,
   "metadata": {},
   "outputs": [],
   "source": [
    "# Plot the results from your previous query as a bar chart. \n",
    "# Use \"Trip Avg Temp\" as your Title\n",
    "# Use the average temperature for the y value\n",
    "# Use the peak-to-peak (tmax-tmin) value as the y error bar (yerr)\n"
   ]
  },
  {
   "cell_type": "code",
   "execution_count": null,
   "metadata": {},
   "outputs": [],
   "source": [
    "# Calculate the total amount of rainfall per weather station for your trip dates using the previous year's matching dates.\n",
    "# Sort this in descending order by precipitation amount and list the station, name, latitude, longitude, and elevation\n",
    "\n"
   ]
  },
  {
   "cell_type": "code",
   "execution_count": null,
   "metadata": {},
   "outputs": [],
   "source": [
    "# Create a query that will calculate the daily normals \n",
    "# (i.e. the averages for tmin, tmax, and tavg for all historic data matching a specific month and day)\n",
    "\n",
    "def daily_normals(date):\n",
    "    \"\"\"Daily Normals.\n",
    "    \n",
    "    Args:\n",
    "        date (str): A date string in the format '%m-%d'\n",
    "        \n",
    "    Returns:\n",
    "        A list of tuples containing the daily normals, tmin, tavg, and tmax\n",
    "    \n",
    "    \"\"\"\n",
    "    \n",
    "    sel = [func.min(Measurement.tobs), func.avg(Measurement.tobs), func.max(Measurement.tobs)]\n",
    "    return session.query(*sel).filter(func.strftime(\"%m-%d\", Measurement.date) == date).all()\n",
    "    \n",
    "daily_normals(\"01-01\")"
   ]
  },
  {
   "cell_type": "markdown",
   "metadata": {},
   "source": []
  },
  {
   "cell_type": "code",
   "execution_count": null,
   "metadata": {},
   "outputs": [],
   "source": [
    "# calculate the daily normals for your trip\n",
    "# push each tuple of calculations into a list called `normals`\n",
    "\n",
    "# Set the start and end date of the trip\n",
    "\n",
    "# Use the start and end date to create a range of dates\n",
    "\n",
    "# Stip off the year and save a list of %m-%d strings\n",
    "\n",
    "# Loop through the list of %m-%d strings and calculate the normals for each date\n"
   ]
  },
  {
   "cell_type": "code",
   "execution_count": null,
   "metadata": {},
   "outputs": [],
   "source": [
    "# Load the previous query results into a Pandas DataFrame and add the `trip_dates` range as the `date` index\n"
   ]
  },
  {
   "cell_type": "code",
   "execution_count": null,
   "metadata": {},
   "outputs": [],
   "source": [
    "# Plot the daily normals as an area plot with `stacked=False`\n"
   ]
  }
 ],
 "metadata": {
  "kernel_info": {
   "name": "python3"
  },
  "kernelspec": {
   "display_name": "Python 3",
   "language": "python",
   "name": "python3"
  },
  "language_info": {
   "codemirror_mode": {
    "name": "ipython",
    "version": 3
   },
   "file_extension": ".py",
   "mimetype": "text/x-python",
   "name": "python",
   "nbconvert_exporter": "python",
   "pygments_lexer": "ipython3",
   "version": "3.7.4"
  },
  "nteract": {
   "version": "0.12.3"
  },
  "varInspector": {
   "cols": {
    "lenName": 16,
    "lenType": 16,
    "lenVar": 40
   },
   "kernels_config": {
    "python": {
     "delete_cmd_postfix": "",
     "delete_cmd_prefix": "del ",
     "library": "var_list.py",
     "varRefreshCmd": "print(var_dic_list())"
    },
    "r": {
     "delete_cmd_postfix": ") ",
     "delete_cmd_prefix": "rm(",
     "library": "var_list.r",
     "varRefreshCmd": "cat(var_dic_list()) "
    }
   },
   "types_to_exclude": [
    "module",
    "function",
    "builtin_function_or_method",
    "instance",
    "_Feature"
   ],
   "window_display": false
  }
 },
 "nbformat": 4,
 "nbformat_minor": 2
}
